{
 "cells": [
  {
   "cell_type": "code",
   "execution_count": 1,
   "id": "0ac11868",
   "metadata": {},
   "outputs": [],
   "source": [
    "import numpy as np\n",
    "import pandas as pd\n",
    "import matplotlib.pyplot as plt\n",
    "import seaborn as sns\n",
    "from sklearn.preprocessing import MinMaxScaler\n",
    "import tensorflow as tf\n",
    "from tensorflow import keras\n",
    "import os"
   ]
  },
  {
   "cell_type": "code",
   "execution_count": 2,
   "id": "04eda20a",
   "metadata": {},
   "outputs": [],
   "source": [
    "df=pd.read_excel(\"data.xlsx\")"
   ]
  },
  {
   "cell_type": "code",
   "execution_count": 3,
   "id": "33b5efa8",
   "metadata": {},
   "outputs": [
    {
     "data": {
      "text/html": [
       "<div>\n",
       "<style scoped>\n",
       "    .dataframe tbody tr th:only-of-type {\n",
       "        vertical-align: middle;\n",
       "    }\n",
       "\n",
       "    .dataframe tbody tr th {\n",
       "        vertical-align: top;\n",
       "    }\n",
       "\n",
       "    .dataframe thead th {\n",
       "        text-align: right;\n",
       "    }\n",
       "</style>\n",
       "<table border=\"1\" class=\"dataframe\">\n",
       "  <thead>\n",
       "    <tr style=\"text-align: right;\">\n",
       "      <th></th>\n",
       "      <th>Unnamed: 0</th>\n",
       "      <th>D/M/Y</th>\n",
       "      <th>H:M:S</th>\n",
       "      <th>CO</th>\n",
       "      <th>CH4</th>\n",
       "      <th>H2S</th>\n",
       "      <th>SPO2</th>\n",
       "    </tr>\n",
       "  </thead>\n",
       "  <tbody>\n",
       "    <tr>\n",
       "      <th>0</th>\n",
       "      <td>0</td>\n",
       "      <td>2020-05-05</td>\n",
       "      <td>10:25:01</td>\n",
       "      <td>5.37</td>\n",
       "      <td>10496.41</td>\n",
       "      <td>15.45</td>\n",
       "      <td>98.0</td>\n",
       "    </tr>\n",
       "    <tr>\n",
       "      <th>1</th>\n",
       "      <td>1</td>\n",
       "      <td>2020-05-05</td>\n",
       "      <td>11:25:02</td>\n",
       "      <td>5.13</td>\n",
       "      <td>9721.47</td>\n",
       "      <td>5.73</td>\n",
       "      <td>98.0</td>\n",
       "    </tr>\n",
       "    <tr>\n",
       "      <th>2</th>\n",
       "      <td>2</td>\n",
       "      <td>2020-05-05</td>\n",
       "      <td>10:25:26</td>\n",
       "      <td>4.89</td>\n",
       "      <td>8707.83</td>\n",
       "      <td>5.17</td>\n",
       "      <td>98.0</td>\n",
       "    </tr>\n",
       "    <tr>\n",
       "      <th>3</th>\n",
       "      <td>3</td>\n",
       "      <td>2020-05-05</td>\n",
       "      <td>10:25:26</td>\n",
       "      <td>4.71</td>\n",
       "      <td>8045.35</td>\n",
       "      <td>4.67</td>\n",
       "      <td>98.0</td>\n",
       "    </tr>\n",
       "    <tr>\n",
       "      <th>4</th>\n",
       "      <td>4</td>\n",
       "      <td>2020-05-05</td>\n",
       "      <td>10:25:26</td>\n",
       "      <td>4.35</td>\n",
       "      <td>7040.90</td>\n",
       "      <td>4.25</td>\n",
       "      <td>98.0</td>\n",
       "    </tr>\n",
       "  </tbody>\n",
       "</table>\n",
       "</div>"
      ],
      "text/plain": [
       "   Unnamed: 0      D/M/Y     H:M:S    CO       CH4    H2S  SPO2\n",
       "0           0 2020-05-05  10:25:01  5.37  10496.41  15.45  98.0\n",
       "1           1 2020-05-05  11:25:02  5.13   9721.47   5.73  98.0\n",
       "2           2 2020-05-05  10:25:26  4.89   8707.83   5.17  98.0\n",
       "3           3 2020-05-05  10:25:26  4.71   8045.35   4.67  98.0\n",
       "4           4 2020-05-05  10:25:26  4.35   7040.90   4.25  98.0"
      ]
     },
     "execution_count": 3,
     "metadata": {},
     "output_type": "execute_result"
    }
   ],
   "source": [
    "df.head()"
   ]
  },
  {
   "cell_type": "code",
   "execution_count": 4,
   "id": "89750077",
   "metadata": {},
   "outputs": [
    {
     "data": {
      "text/plain": [
       "Unnamed: 0        0\n",
       "D/M/Y             0\n",
       "H:M:S             0\n",
       "CO                0\n",
       "CH4               0\n",
       "H2S           50640\n",
       "SPO2          25233\n",
       "dtype: int64"
      ]
     },
     "execution_count": 4,
     "metadata": {},
     "output_type": "execute_result"
    }
   ],
   "source": [
    "df.isnull().sum()"
   ]
  },
  {
   "cell_type": "code",
   "execution_count": 5,
   "id": "2aee9cad",
   "metadata": {},
   "outputs": [
    {
     "data": {
      "text/plain": [
       "(53566, 7)"
      ]
     },
     "execution_count": 5,
     "metadata": {},
     "output_type": "execute_result"
    }
   ],
   "source": [
    "df.shape"
   ]
  },
  {
   "cell_type": "code",
   "execution_count": 6,
   "id": "e21c0995",
   "metadata": {},
   "outputs": [
    {
     "name": "stdout",
     "output_type": "stream",
     "text": [
      "<class 'pandas.core.frame.DataFrame'>\n",
      "RangeIndex: 53566 entries, 0 to 53565\n",
      "Data columns (total 7 columns):\n",
      " #   Column      Non-Null Count  Dtype         \n",
      "---  ------      --------------  -----         \n",
      " 0   Unnamed: 0  53566 non-null  int64         \n",
      " 1   D/M/Y       53566 non-null  datetime64[ns]\n",
      " 2   H:M:S       53566 non-null  object        \n",
      " 3   CO          53566 non-null  float64       \n",
      " 4   CH4         53566 non-null  float64       \n",
      " 5   H2S         2926 non-null   float64       \n",
      " 6   SPO2        28333 non-null  float64       \n",
      "dtypes: datetime64[ns](1), float64(4), int64(1), object(1)\n",
      "memory usage: 2.9+ MB\n"
     ]
    }
   ],
   "source": [
    "df.info()"
   ]
  },
  {
   "cell_type": "code",
   "execution_count": 7,
   "id": "5bdbf4d5",
   "metadata": {},
   "outputs": [],
   "source": [
    "df['D/M/Y'] = df['D/M/Y'].dt.strftime('%Y-%m-%d')"
   ]
  },
  {
   "cell_type": "code",
   "execution_count": 8,
   "id": "be24d314",
   "metadata": {},
   "outputs": [],
   "source": [
    "def check_type(data):\n",
    "    if type(data) is str:\n",
    "        return data\n",
    "    else:\n",
    "        return data.strftime(\"%H:%M:%S\")"
   ]
  },
  {
   "cell_type": "code",
   "execution_count": 9,
   "id": "b486d80a",
   "metadata": {},
   "outputs": [],
   "source": [
    "df['H:M:S'] = df['H:M:S'].apply(lambda x: check_type(x))"
   ]
  },
  {
   "cell_type": "code",
   "execution_count": 10,
   "id": "e7f31212",
   "metadata": {},
   "outputs": [
    {
     "name": "stdout",
     "output_type": "stream",
     "text": [
      "<class 'pandas.core.frame.DataFrame'>\n",
      "RangeIndex: 53566 entries, 0 to 53565\n",
      "Data columns (total 7 columns):\n",
      " #   Column      Non-Null Count  Dtype  \n",
      "---  ------      --------------  -----  \n",
      " 0   Unnamed: 0  53566 non-null  int64  \n",
      " 1   D/M/Y       53566 non-null  object \n",
      " 2   H:M:S       53566 non-null  object \n",
      " 3   CO          53566 non-null  float64\n",
      " 4   CH4         53566 non-null  float64\n",
      " 5   H2S         2926 non-null   float64\n",
      " 6   SPO2        28333 non-null  float64\n",
      "dtypes: float64(4), int64(1), object(2)\n",
      "memory usage: 2.9+ MB\n"
     ]
    }
   ],
   "source": [
    "df.info()"
   ]
  },
  {
   "cell_type": "code",
   "execution_count": 11,
   "id": "d195df54",
   "metadata": {},
   "outputs": [
    {
     "data": {
      "text/html": [
       "<div>\n",
       "<style scoped>\n",
       "    .dataframe tbody tr th:only-of-type {\n",
       "        vertical-align: middle;\n",
       "    }\n",
       "\n",
       "    .dataframe tbody tr th {\n",
       "        vertical-align: top;\n",
       "    }\n",
       "\n",
       "    .dataframe thead th {\n",
       "        text-align: right;\n",
       "    }\n",
       "</style>\n",
       "<table border=\"1\" class=\"dataframe\">\n",
       "  <thead>\n",
       "    <tr style=\"text-align: right;\">\n",
       "      <th></th>\n",
       "      <th>Unnamed: 0</th>\n",
       "      <th>D/M/Y</th>\n",
       "      <th>H:M:S</th>\n",
       "      <th>CO</th>\n",
       "      <th>CH4</th>\n",
       "      <th>H2S</th>\n",
       "      <th>SPO2</th>\n",
       "    </tr>\n",
       "  </thead>\n",
       "  <tbody>\n",
       "    <tr>\n",
       "      <th>0</th>\n",
       "      <td>0</td>\n",
       "      <td>2020-05-05</td>\n",
       "      <td>10:25:01</td>\n",
       "      <td>5.37</td>\n",
       "      <td>10496.41</td>\n",
       "      <td>15.45</td>\n",
       "      <td>98.0</td>\n",
       "    </tr>\n",
       "    <tr>\n",
       "      <th>1</th>\n",
       "      <td>1</td>\n",
       "      <td>2020-05-05</td>\n",
       "      <td>11:25:02</td>\n",
       "      <td>5.13</td>\n",
       "      <td>9721.47</td>\n",
       "      <td>5.73</td>\n",
       "      <td>98.0</td>\n",
       "    </tr>\n",
       "    <tr>\n",
       "      <th>2</th>\n",
       "      <td>2</td>\n",
       "      <td>2020-05-05</td>\n",
       "      <td>10:25:26</td>\n",
       "      <td>4.89</td>\n",
       "      <td>8707.83</td>\n",
       "      <td>5.17</td>\n",
       "      <td>98.0</td>\n",
       "    </tr>\n",
       "    <tr>\n",
       "      <th>3</th>\n",
       "      <td>3</td>\n",
       "      <td>2020-05-05</td>\n",
       "      <td>10:25:26</td>\n",
       "      <td>4.71</td>\n",
       "      <td>8045.35</td>\n",
       "      <td>4.67</td>\n",
       "      <td>98.0</td>\n",
       "    </tr>\n",
       "    <tr>\n",
       "      <th>4</th>\n",
       "      <td>4</td>\n",
       "      <td>2020-05-05</td>\n",
       "      <td>10:25:26</td>\n",
       "      <td>4.35</td>\n",
       "      <td>7040.90</td>\n",
       "      <td>4.25</td>\n",
       "      <td>98.0</td>\n",
       "    </tr>\n",
       "  </tbody>\n",
       "</table>\n",
       "</div>"
      ],
      "text/plain": [
       "   Unnamed: 0       D/M/Y     H:M:S    CO       CH4    H2S  SPO2\n",
       "0           0  2020-05-05  10:25:01  5.37  10496.41  15.45  98.0\n",
       "1           1  2020-05-05  11:25:02  5.13   9721.47   5.73  98.0\n",
       "2           2  2020-05-05  10:25:26  4.89   8707.83   5.17  98.0\n",
       "3           3  2020-05-05  10:25:26  4.71   8045.35   4.67  98.0\n",
       "4           4  2020-05-05  10:25:26  4.35   7040.90   4.25  98.0"
      ]
     },
     "execution_count": 11,
     "metadata": {},
     "output_type": "execute_result"
    }
   ],
   "source": [
    "df.head()"
   ]
  },
  {
   "cell_type": "code",
   "execution_count": 12,
   "id": "93fa770c",
   "metadata": {},
   "outputs": [],
   "source": [
    "t=df.iloc[1,2]"
   ]
  },
  {
   "cell_type": "code",
   "execution_count": 13,
   "id": "c6b76b91",
   "metadata": {},
   "outputs": [
    {
     "data": {
      "text/plain": [
       "str"
      ]
     },
     "execution_count": 13,
     "metadata": {},
     "output_type": "execute_result"
    }
   ],
   "source": [
    "type(t)"
   ]
  },
  {
   "cell_type": "code",
   "execution_count": 14,
   "id": "33205ce0",
   "metadata": {},
   "outputs": [],
   "source": [
    "df['DateTime']=df['D/M/Y']+' '+df[\"H:M:S\"]"
   ]
  },
  {
   "cell_type": "code",
   "execution_count": 15,
   "id": "c327bdf9",
   "metadata": {},
   "outputs": [
    {
     "data": {
      "text/html": [
       "<div>\n",
       "<style scoped>\n",
       "    .dataframe tbody tr th:only-of-type {\n",
       "        vertical-align: middle;\n",
       "    }\n",
       "\n",
       "    .dataframe tbody tr th {\n",
       "        vertical-align: top;\n",
       "    }\n",
       "\n",
       "    .dataframe thead th {\n",
       "        text-align: right;\n",
       "    }\n",
       "</style>\n",
       "<table border=\"1\" class=\"dataframe\">\n",
       "  <thead>\n",
       "    <tr style=\"text-align: right;\">\n",
       "      <th></th>\n",
       "      <th>Unnamed: 0</th>\n",
       "      <th>D/M/Y</th>\n",
       "      <th>H:M:S</th>\n",
       "      <th>CO</th>\n",
       "      <th>CH4</th>\n",
       "      <th>H2S</th>\n",
       "      <th>SPO2</th>\n",
       "      <th>DateTime</th>\n",
       "    </tr>\n",
       "  </thead>\n",
       "  <tbody>\n",
       "    <tr>\n",
       "      <th>0</th>\n",
       "      <td>0</td>\n",
       "      <td>2020-05-05</td>\n",
       "      <td>10:25:01</td>\n",
       "      <td>5.37</td>\n",
       "      <td>10496.41</td>\n",
       "      <td>15.45</td>\n",
       "      <td>98.0</td>\n",
       "      <td>2020-05-05 10:25:01</td>\n",
       "    </tr>\n",
       "    <tr>\n",
       "      <th>1</th>\n",
       "      <td>1</td>\n",
       "      <td>2020-05-05</td>\n",
       "      <td>11:25:02</td>\n",
       "      <td>5.13</td>\n",
       "      <td>9721.47</td>\n",
       "      <td>5.73</td>\n",
       "      <td>98.0</td>\n",
       "      <td>2020-05-05 11:25:02</td>\n",
       "    </tr>\n",
       "    <tr>\n",
       "      <th>2</th>\n",
       "      <td>2</td>\n",
       "      <td>2020-05-05</td>\n",
       "      <td>10:25:26</td>\n",
       "      <td>4.89</td>\n",
       "      <td>8707.83</td>\n",
       "      <td>5.17</td>\n",
       "      <td>98.0</td>\n",
       "      <td>2020-05-05 10:25:26</td>\n",
       "    </tr>\n",
       "    <tr>\n",
       "      <th>3</th>\n",
       "      <td>3</td>\n",
       "      <td>2020-05-05</td>\n",
       "      <td>10:25:26</td>\n",
       "      <td>4.71</td>\n",
       "      <td>8045.35</td>\n",
       "      <td>4.67</td>\n",
       "      <td>98.0</td>\n",
       "      <td>2020-05-05 10:25:26</td>\n",
       "    </tr>\n",
       "    <tr>\n",
       "      <th>4</th>\n",
       "      <td>4</td>\n",
       "      <td>2020-05-05</td>\n",
       "      <td>10:25:26</td>\n",
       "      <td>4.35</td>\n",
       "      <td>7040.90</td>\n",
       "      <td>4.25</td>\n",
       "      <td>98.0</td>\n",
       "      <td>2020-05-05 10:25:26</td>\n",
       "    </tr>\n",
       "  </tbody>\n",
       "</table>\n",
       "</div>"
      ],
      "text/plain": [
       "   Unnamed: 0       D/M/Y     H:M:S    CO       CH4    H2S  SPO2  \\\n",
       "0           0  2020-05-05  10:25:01  5.37  10496.41  15.45  98.0   \n",
       "1           1  2020-05-05  11:25:02  5.13   9721.47   5.73  98.0   \n",
       "2           2  2020-05-05  10:25:26  4.89   8707.83   5.17  98.0   \n",
       "3           3  2020-05-05  10:25:26  4.71   8045.35   4.67  98.0   \n",
       "4           4  2020-05-05  10:25:26  4.35   7040.90   4.25  98.0   \n",
       "\n",
       "              DateTime  \n",
       "0  2020-05-05 10:25:01  \n",
       "1  2020-05-05 11:25:02  \n",
       "2  2020-05-05 10:25:26  \n",
       "3  2020-05-05 10:25:26  \n",
       "4  2020-05-05 10:25:26  "
      ]
     },
     "execution_count": 15,
     "metadata": {},
     "output_type": "execute_result"
    }
   ],
   "source": [
    "df.head()"
   ]
  },
  {
   "cell_type": "code",
   "execution_count": 16,
   "id": "45dc1277",
   "metadata": {},
   "outputs": [
    {
     "data": {
      "text/plain": [
       "Index(['Unnamed: 0', 'D/M/Y', 'H:M:S', 'CO', 'CH4', 'H2S', 'SPO2', 'DateTime'], dtype='object')"
      ]
     },
     "execution_count": 16,
     "metadata": {},
     "output_type": "execute_result"
    }
   ],
   "source": [
    "df.columns"
   ]
  },
  {
   "cell_type": "code",
   "execution_count": 17,
   "id": "9976b2db",
   "metadata": {},
   "outputs": [],
   "source": [
    "df.drop(['Unnamed: 0', 'D/M/Y', 'H:M:S','CH4', 'H2S', 'SPO2'],inplace=True,axis=1)"
   ]
  },
  {
   "cell_type": "code",
   "execution_count": 18,
   "id": "1864aefb",
   "metadata": {},
   "outputs": [
    {
     "data": {
      "text/html": [
       "<div>\n",
       "<style scoped>\n",
       "    .dataframe tbody tr th:only-of-type {\n",
       "        vertical-align: middle;\n",
       "    }\n",
       "\n",
       "    .dataframe tbody tr th {\n",
       "        vertical-align: top;\n",
       "    }\n",
       "\n",
       "    .dataframe thead th {\n",
       "        text-align: right;\n",
       "    }\n",
       "</style>\n",
       "<table border=\"1\" class=\"dataframe\">\n",
       "  <thead>\n",
       "    <tr style=\"text-align: right;\">\n",
       "      <th></th>\n",
       "      <th>CO</th>\n",
       "      <th>DateTime</th>\n",
       "    </tr>\n",
       "  </thead>\n",
       "  <tbody>\n",
       "    <tr>\n",
       "      <th>0</th>\n",
       "      <td>5.37</td>\n",
       "      <td>2020-05-05 10:25:01</td>\n",
       "    </tr>\n",
       "    <tr>\n",
       "      <th>1</th>\n",
       "      <td>5.13</td>\n",
       "      <td>2020-05-05 11:25:02</td>\n",
       "    </tr>\n",
       "    <tr>\n",
       "      <th>2</th>\n",
       "      <td>4.89</td>\n",
       "      <td>2020-05-05 10:25:26</td>\n",
       "    </tr>\n",
       "    <tr>\n",
       "      <th>3</th>\n",
       "      <td>4.71</td>\n",
       "      <td>2020-05-05 10:25:26</td>\n",
       "    </tr>\n",
       "    <tr>\n",
       "      <th>4</th>\n",
       "      <td>4.35</td>\n",
       "      <td>2020-05-05 10:25:26</td>\n",
       "    </tr>\n",
       "    <tr>\n",
       "      <th>...</th>\n",
       "      <td>...</td>\n",
       "      <td>...</td>\n",
       "    </tr>\n",
       "    <tr>\n",
       "      <th>53561</th>\n",
       "      <td>0.93</td>\n",
       "      <td>2020-05-05 18:9:58</td>\n",
       "    </tr>\n",
       "    <tr>\n",
       "      <th>53562</th>\n",
       "      <td>0.95</td>\n",
       "      <td>2020-05-05 18:9:59</td>\n",
       "    </tr>\n",
       "    <tr>\n",
       "      <th>53563</th>\n",
       "      <td>0.93</td>\n",
       "      <td>2020-05-05 18:09:06</td>\n",
       "    </tr>\n",
       "    <tr>\n",
       "      <th>53564</th>\n",
       "      <td>0.92</td>\n",
       "      <td>2020-05-05 18:09:07</td>\n",
       "    </tr>\n",
       "    <tr>\n",
       "      <th>53565</th>\n",
       "      <td>1.00</td>\n",
       "      <td>2020-05-05 18:09:09</td>\n",
       "    </tr>\n",
       "  </tbody>\n",
       "</table>\n",
       "<p>53566 rows × 2 columns</p>\n",
       "</div>"
      ],
      "text/plain": [
       "         CO             DateTime\n",
       "0      5.37  2020-05-05 10:25:01\n",
       "1      5.13  2020-05-05 11:25:02\n",
       "2      4.89  2020-05-05 10:25:26\n",
       "3      4.71  2020-05-05 10:25:26\n",
       "4      4.35  2020-05-05 10:25:26\n",
       "...     ...                  ...\n",
       "53561  0.93  2020-05-05 18:9:58 \n",
       "53562  0.95  2020-05-05 18:9:59 \n",
       "53563  0.93  2020-05-05 18:09:06\n",
       "53564  0.92  2020-05-05 18:09:07\n",
       "53565  1.00  2020-05-05 18:09:09\n",
       "\n",
       "[53566 rows x 2 columns]"
      ]
     },
     "execution_count": 18,
     "metadata": {},
     "output_type": "execute_result"
    }
   ],
   "source": [
    "df"
   ]
  },
  {
   "cell_type": "code",
   "execution_count": 19,
   "id": "c77ed13c",
   "metadata": {},
   "outputs": [
    {
     "data": {
      "text/plain": [
       "CO          0\n",
       "DateTime    0\n",
       "dtype: int64"
      ]
     },
     "execution_count": 19,
     "metadata": {},
     "output_type": "execute_result"
    }
   ],
   "source": [
    "df.isnull().sum()"
   ]
  },
  {
   "cell_type": "code",
   "execution_count": 20,
   "id": "f210dc47",
   "metadata": {},
   "outputs": [],
   "source": [
    "df['DateTime'] = pd.to_datetime(df['DateTime'],errors='coerce', format='%Y-%m-%d %H:%M:%S')"
   ]
  },
  {
   "cell_type": "code",
   "execution_count": 21,
   "id": "6d8c576f",
   "metadata": {},
   "outputs": [
    {
     "name": "stdout",
     "output_type": "stream",
     "text": [
      "<class 'pandas.core.frame.DataFrame'>\n",
      "RangeIndex: 53566 entries, 0 to 53565\n",
      "Data columns (total 2 columns):\n",
      " #   Column    Non-Null Count  Dtype         \n",
      "---  ------    --------------  -----         \n",
      " 0   CO        53566 non-null  float64       \n",
      " 1   DateTime  53563 non-null  datetime64[ns]\n",
      "dtypes: datetime64[ns](1), float64(1)\n",
      "memory usage: 837.1 KB\n"
     ]
    }
   ],
   "source": [
    "df.info()"
   ]
  },
  {
   "cell_type": "code",
   "execution_count": 22,
   "id": "08d4a911",
   "metadata": {},
   "outputs": [
    {
     "data": {
      "text/html": [
       "<div>\n",
       "<style scoped>\n",
       "    .dataframe tbody tr th:only-of-type {\n",
       "        vertical-align: middle;\n",
       "    }\n",
       "\n",
       "    .dataframe tbody tr th {\n",
       "        vertical-align: top;\n",
       "    }\n",
       "\n",
       "    .dataframe thead th {\n",
       "        text-align: right;\n",
       "    }\n",
       "</style>\n",
       "<table border=\"1\" class=\"dataframe\">\n",
       "  <thead>\n",
       "    <tr style=\"text-align: right;\">\n",
       "      <th></th>\n",
       "      <th>CO</th>\n",
       "      <th>DateTime</th>\n",
       "    </tr>\n",
       "  </thead>\n",
       "  <tbody>\n",
       "    <tr>\n",
       "      <th>0</th>\n",
       "      <td>5.37</td>\n",
       "      <td>2020-05-05 10:25:01</td>\n",
       "    </tr>\n",
       "    <tr>\n",
       "      <th>1</th>\n",
       "      <td>5.13</td>\n",
       "      <td>2020-05-05 11:25:02</td>\n",
       "    </tr>\n",
       "    <tr>\n",
       "      <th>2</th>\n",
       "      <td>4.89</td>\n",
       "      <td>2020-05-05 10:25:26</td>\n",
       "    </tr>\n",
       "    <tr>\n",
       "      <th>3</th>\n",
       "      <td>4.71</td>\n",
       "      <td>2020-05-05 10:25:26</td>\n",
       "    </tr>\n",
       "    <tr>\n",
       "      <th>4</th>\n",
       "      <td>4.35</td>\n",
       "      <td>2020-05-05 10:25:26</td>\n",
       "    </tr>\n",
       "  </tbody>\n",
       "</table>\n",
       "</div>"
      ],
      "text/plain": [
       "     CO            DateTime\n",
       "0  5.37 2020-05-05 10:25:01\n",
       "1  5.13 2020-05-05 11:25:02\n",
       "2  4.89 2020-05-05 10:25:26\n",
       "3  4.71 2020-05-05 10:25:26\n",
       "4  4.35 2020-05-05 10:25:26"
      ]
     },
     "execution_count": 22,
     "metadata": {},
     "output_type": "execute_result"
    }
   ],
   "source": [
    "df.head()"
   ]
  },
  {
   "cell_type": "code",
   "execution_count": 23,
   "id": "5283a7ef",
   "metadata": {},
   "outputs": [
    {
     "data": {
      "text/plain": [
       "CO          0\n",
       "DateTime    3\n",
       "dtype: int64"
      ]
     },
     "execution_count": 23,
     "metadata": {},
     "output_type": "execute_result"
    }
   ],
   "source": [
    "df.isnull().sum()"
   ]
  },
  {
   "cell_type": "code",
   "execution_count": 24,
   "id": "cc58c938",
   "metadata": {},
   "outputs": [],
   "source": [
    "df.dropna(inplace=True)"
   ]
  },
  {
   "cell_type": "code",
   "execution_count": 25,
   "id": "4dcc7e12",
   "metadata": {},
   "outputs": [
    {
     "data": {
      "text/plain": [
       "CO          0\n",
       "DateTime    0\n",
       "dtype: int64"
      ]
     },
     "execution_count": 25,
     "metadata": {},
     "output_type": "execute_result"
    }
   ],
   "source": [
    "df.isnull().sum()"
   ]
  },
  {
   "cell_type": "code",
   "execution_count": 26,
   "id": "d4483b2b",
   "metadata": {},
   "outputs": [
    {
     "data": {
      "text/plain": [
       "(53563, 2)"
      ]
     },
     "execution_count": 26,
     "metadata": {},
     "output_type": "execute_result"
    }
   ],
   "source": [
    "df.shape"
   ]
  },
  {
   "cell_type": "code",
   "execution_count": 27,
   "id": "0d63cba1",
   "metadata": {},
   "outputs": [
    {
     "data": {
      "text/plain": [
       "0.0"
      ]
     },
     "execution_count": 27,
     "metadata": {},
     "output_type": "execute_result"
    }
   ],
   "source": [
    "min(df['CO'])"
   ]
  },
  {
   "cell_type": "code",
   "execution_count": 28,
   "id": "fdfbff4e",
   "metadata": {},
   "outputs": [
    {
     "data": {
      "text/plain": [
       "398.96"
      ]
     },
     "execution_count": 28,
     "metadata": {},
     "output_type": "execute_result"
    }
   ],
   "source": [
    "max(df['CO'])"
   ]
  },
  {
   "cell_type": "code",
   "execution_count": 29,
   "id": "4439a8dd",
   "metadata": {},
   "outputs": [
    {
     "data": {
      "text/plain": [
       "6.494694520452408"
      ]
     },
     "execution_count": 29,
     "metadata": {},
     "output_type": "execute_result"
    }
   ],
   "source": [
    "np.std(df['CO'])"
   ]
  },
  {
   "cell_type": "code",
   "execution_count": 30,
   "id": "3819dff0",
   "metadata": {},
   "outputs": [
    {
     "data": {
      "text/plain": [
       "3.610799245747998"
      ]
     },
     "execution_count": 30,
     "metadata": {},
     "output_type": "execute_result"
    }
   ],
   "source": [
    "np.average(df['CO'])"
   ]
  },
  {
   "cell_type": "code",
   "execution_count": 31,
   "id": "3217977f",
   "metadata": {},
   "outputs": [],
   "source": [
    "df1=df"
   ]
  },
  {
   "cell_type": "code",
   "execution_count": 32,
   "id": "ba0ab4ac",
   "metadata": {},
   "outputs": [],
   "source": [
    "df=df1"
   ]
  },
  {
   "cell_type": "code",
   "execution_count": 33,
   "id": "106a826a",
   "metadata": {},
   "outputs": [
    {
     "data": {
      "text/html": [
       "<div>\n",
       "<style scoped>\n",
       "    .dataframe tbody tr th:only-of-type {\n",
       "        vertical-align: middle;\n",
       "    }\n",
       "\n",
       "    .dataframe tbody tr th {\n",
       "        vertical-align: top;\n",
       "    }\n",
       "\n",
       "    .dataframe thead th {\n",
       "        text-align: right;\n",
       "    }\n",
       "</style>\n",
       "<table border=\"1\" class=\"dataframe\">\n",
       "  <thead>\n",
       "    <tr style=\"text-align: right;\">\n",
       "      <th></th>\n",
       "      <th>CO</th>\n",
       "      <th>DateTime</th>\n",
       "    </tr>\n",
       "  </thead>\n",
       "  <tbody>\n",
       "    <tr>\n",
       "      <th>0</th>\n",
       "      <td>5.37</td>\n",
       "      <td>2020-05-05 10:25:01</td>\n",
       "    </tr>\n",
       "    <tr>\n",
       "      <th>1</th>\n",
       "      <td>5.13</td>\n",
       "      <td>2020-05-05 11:25:02</td>\n",
       "    </tr>\n",
       "    <tr>\n",
       "      <th>2</th>\n",
       "      <td>4.89</td>\n",
       "      <td>2020-05-05 10:25:26</td>\n",
       "    </tr>\n",
       "    <tr>\n",
       "      <th>3</th>\n",
       "      <td>4.71</td>\n",
       "      <td>2020-05-05 10:25:26</td>\n",
       "    </tr>\n",
       "    <tr>\n",
       "      <th>4</th>\n",
       "      <td>4.35</td>\n",
       "      <td>2020-05-05 10:25:26</td>\n",
       "    </tr>\n",
       "  </tbody>\n",
       "</table>\n",
       "</div>"
      ],
      "text/plain": [
       "     CO            DateTime\n",
       "0  5.37 2020-05-05 10:25:01\n",
       "1  5.13 2020-05-05 11:25:02\n",
       "2  4.89 2020-05-05 10:25:26\n",
       "3  4.71 2020-05-05 10:25:26\n",
       "4  4.35 2020-05-05 10:25:26"
      ]
     },
     "execution_count": 33,
     "metadata": {},
     "output_type": "execute_result"
    }
   ],
   "source": [
    "df.head()"
   ]
  },
  {
   "cell_type": "code",
   "execution_count": 34,
   "id": "86f66c00",
   "metadata": {},
   "outputs": [
    {
     "name": "stdout",
     "output_type": "stream",
     "text": [
      "<class 'pandas.core.frame.DataFrame'>\n",
      "Int64Index: 53563 entries, 0 to 53565\n",
      "Data columns (total 2 columns):\n",
      " #   Column    Non-Null Count  Dtype         \n",
      "---  ------    --------------  -----         \n",
      " 0   CO        53563 non-null  float64       \n",
      " 1   DateTime  53563 non-null  datetime64[ns]\n",
      "dtypes: datetime64[ns](1), float64(1)\n",
      "memory usage: 1.2 MB\n"
     ]
    }
   ],
   "source": [
    "df.info()"
   ]
  },
  {
   "cell_type": "code",
   "execution_count": 35,
   "id": "77acff94",
   "metadata": {},
   "outputs": [
    {
     "name": "stderr",
     "output_type": "stream",
     "text": [
      "/var/folders/p5/43_fhp1s30z3w0n_dtmwxmvm0000gn/T/ipykernel_1342/4236071864.py:1: SettingWithCopyWarning: \n",
      "A value is trying to be set on a copy of a slice from a DataFrame\n",
      "\n",
      "See the caveats in the documentation: https://pandas.pydata.org/pandas-docs/stable/user_guide/indexing.html#returning-a-view-versus-a-copy\n",
      "  df['CO'][df['CO']>50]=50\n"
     ]
    }
   ],
   "source": [
    "df['CO'][df['CO']>50]=50"
   ]
  },
  {
   "cell_type": "code",
   "execution_count": 36,
   "id": "ae468b6a",
   "metadata": {},
   "outputs": [
    {
     "data": {
      "text/html": [
       "<div>\n",
       "<style scoped>\n",
       "    .dataframe tbody tr th:only-of-type {\n",
       "        vertical-align: middle;\n",
       "    }\n",
       "\n",
       "    .dataframe tbody tr th {\n",
       "        vertical-align: top;\n",
       "    }\n",
       "\n",
       "    .dataframe thead th {\n",
       "        text-align: right;\n",
       "    }\n",
       "</style>\n",
       "<table border=\"1\" class=\"dataframe\">\n",
       "  <thead>\n",
       "    <tr style=\"text-align: right;\">\n",
       "      <th></th>\n",
       "      <th>CO</th>\n",
       "      <th>DateTime</th>\n",
       "    </tr>\n",
       "  </thead>\n",
       "  <tbody>\n",
       "    <tr>\n",
       "      <th>0</th>\n",
       "      <td>5.37</td>\n",
       "      <td>2020-05-05 10:25:01</td>\n",
       "    </tr>\n",
       "    <tr>\n",
       "      <th>1</th>\n",
       "      <td>5.13</td>\n",
       "      <td>2020-05-05 11:25:02</td>\n",
       "    </tr>\n",
       "    <tr>\n",
       "      <th>2</th>\n",
       "      <td>4.89</td>\n",
       "      <td>2020-05-05 10:25:26</td>\n",
       "    </tr>\n",
       "    <tr>\n",
       "      <th>3</th>\n",
       "      <td>4.71</td>\n",
       "      <td>2020-05-05 10:25:26</td>\n",
       "    </tr>\n",
       "    <tr>\n",
       "      <th>4</th>\n",
       "      <td>4.35</td>\n",
       "      <td>2020-05-05 10:25:26</td>\n",
       "    </tr>\n",
       "  </tbody>\n",
       "</table>\n",
       "</div>"
      ],
      "text/plain": [
       "     CO            DateTime\n",
       "0  5.37 2020-05-05 10:25:01\n",
       "1  5.13 2020-05-05 11:25:02\n",
       "2  4.89 2020-05-05 10:25:26\n",
       "3  4.71 2020-05-05 10:25:26\n",
       "4  4.35 2020-05-05 10:25:26"
      ]
     },
     "execution_count": 36,
     "metadata": {},
     "output_type": "execute_result"
    }
   ],
   "source": [
    "df.head()"
   ]
  },
  {
   "cell_type": "code",
   "execution_count": 37,
   "id": "f8ef6a2b",
   "metadata": {},
   "outputs": [
    {
     "name": "stdout",
     "output_type": "stream",
     "text": [
      "<class 'pandas.core.frame.DataFrame'>\n",
      "Int64Index: 53563 entries, 0 to 53565\n",
      "Data columns (total 2 columns):\n",
      " #   Column    Non-Null Count  Dtype         \n",
      "---  ------    --------------  -----         \n",
      " 0   CO        53563 non-null  float64       \n",
      " 1   DateTime  53563 non-null  datetime64[ns]\n",
      "dtypes: datetime64[ns](1), float64(1)\n",
      "memory usage: 1.2 MB\n"
     ]
    }
   ],
   "source": [
    "df.info()"
   ]
  },
  {
   "cell_type": "code",
   "execution_count": 38,
   "id": "b6095a26",
   "metadata": {},
   "outputs": [
    {
     "data": {
      "image/png": "[encoded data removed]",
      "text/plain": [
       "<Figure size 432x288 with 1 Axes>"
      ]
     },
     "metadata": {
      "needs_background": "light"
     },
     "output_type": "display_data"
    }
   ],
   "source": [
    "\n",
    "plt.grid()\n",
    "plt.plot(df.CO,marker=\"o\", markersize=2, markeredgecolor=\"red\",\n",
    "markerfacecolor=\"green\")\n",
    "plt.show()"
   ]
  },
  {
   "cell_type": "code",
   "execution_count": 39,
   "id": "35db43d1",
   "metadata": {},
   "outputs": [
    {
     "name": "stderr",
     "output_type": "stream",
     "text": [
      "/Library/Frameworks/Python.framework/Versions/3.10/lib/python3.10/site-packages/seaborn/distributions.py:2619: FutureWarning: `distplot` is a deprecated function and will be removed in a future version. Please adapt your code to use either `displot` (a figure-level function with similar flexibility) or `histplot` (an axes-level function for histograms).\n",
      "  warnings.warn(msg, FutureWarning)\n"
     ]
    },
    {
     "data": {
      "text/plain": [
       "<AxesSubplot:xlabel='CO', ylabel='Density'>"
      ]
     },
     "execution_count": 39,
     "metadata": {},
     "output_type": "execute_result"
    },
    {
     "data": {
      "image/png": "[encoded data removed]",
      "text/plain": [
       "<Figure size 432x288 with 1 Axes>"
      ]
     },
     "metadata": {
      "needs_background": "light"
     },
     "output_type": "display_data"
    }
   ],
   "source": [
    "sns.distplot(df.CO)"
   ]
  },
  {
   "cell_type": "code",
   "execution_count": 40,
   "id": "37a7d9b8",
   "metadata": {},
   "outputs": [
    {
     "data": {
      "text/plain": [
       "<AxesSubplot:xlabel='CO', ylabel='count'>"
      ]
     },
     "execution_count": 40,
     "metadata": {},
     "output_type": "execute_result"
    },
    {
     "data": {
      "image/png": "[encoded data removed]",
      "text/plain": [
       "<Figure size 842.4x595.44 with 1 Axes>"
      ]
     },
     "metadata": {
      "needs_background": "light"
     },
     "output_type": "display_data"
    }
   ],
   "source": [
    "a4_dims = (11.7, 8.27)\n",
    "fig, ax = plt.subplots(figsize=a4_dims)\n",
    "sns.countplot(ax=ax, data=df, x='CO')"
   ]
  },
  {
   "cell_type": "code",
   "execution_count": 41,
   "id": "84a9c31e",
   "metadata": {},
   "outputs": [
    {
     "name": "stderr",
     "output_type": "stream",
     "text": [
      "/Library/Frameworks/Python.framework/Versions/3.10/lib/python3.10/site-packages/seaborn/_decorators.py:36: FutureWarning: Pass the following variable as a keyword arg: x. From version 0.12, the only valid positional argument will be `data`, and passing other arguments without an explicit keyword will result in an error or misinterpretation.\n",
      "  warnings.warn(\n"
     ]
    },
    {
     "data": {
      "text/plain": [
       "<AxesSubplot:xlabel='CO'>"
      ]
     },
     "execution_count": 41,
     "metadata": {},
     "output_type": "execute_result"
    },
    {
     "data": {
      "image/png": "[encoded data removed]",
      "text/plain": [
       "<Figure size 432x288 with 1 Axes>"
      ]
     },
     "metadata": {
      "needs_background": "light"
     },
     "output_type": "display_data"
    }
   ],
   "source": [
    "sns.violinplot(df.CO)"
   ]
  },
  {
   "cell_type": "code",
   "execution_count": 42,
   "id": "b283ad88",
   "metadata": {},
   "outputs": [
    {
     "data": {
      "image/png": "[encoded data removed]",
      "text/plain": [
       "<Figure size 2160x720 with 1 Axes>"
      ]
     },
     "metadata": {
      "needs_background": "light"
     },
     "output_type": "display_data"
    }
   ],
   "source": [
    "plt.figure(figsize=(30,10))\n",
    "plt.grid()\n",
    "plt.plot(df.CO,marker=\"o\", markersize=2,\n",
    "markerfacecolor=\"green\")\n",
    "plt.show()"
   ]
  },
  {
   "cell_type": "code",
   "execution_count": 43,
   "id": "07212786",
   "metadata": {},
   "outputs": [
    {
     "data": {
      "text/html": [
       "<div>\n",
       "<style scoped>\n",
       "    .dataframe tbody tr th:only-of-type {\n",
       "        vertical-align: middle;\n",
       "    }\n",
       "\n",
       "    .dataframe tbody tr th {\n",
       "        vertical-align: top;\n",
       "    }\n",
       "\n",
       "    .dataframe thead th {\n",
       "        text-align: right;\n",
       "    }\n",
       "</style>\n",
       "<table border=\"1\" class=\"dataframe\">\n",
       "  <thead>\n",
       "    <tr style=\"text-align: right;\">\n",
       "      <th></th>\n",
       "      <th>CO</th>\n",
       "      <th>DateTime</th>\n",
       "    </tr>\n",
       "  </thead>\n",
       "  <tbody>\n",
       "    <tr>\n",
       "      <th>0</th>\n",
       "      <td>5.37</td>\n",
       "      <td>2020-05-05 10:25:01</td>\n",
       "    </tr>\n",
       "    <tr>\n",
       "      <th>1</th>\n",
       "      <td>5.13</td>\n",
       "      <td>2020-05-05 11:25:02</td>\n",
       "    </tr>\n",
       "    <tr>\n",
       "      <th>2</th>\n",
       "      <td>4.89</td>\n",
       "      <td>2020-05-05 10:25:26</td>\n",
       "    </tr>\n",
       "    <tr>\n",
       "      <th>3</th>\n",
       "      <td>4.71</td>\n",
       "      <td>2020-05-05 10:25:26</td>\n",
       "    </tr>\n",
       "    <tr>\n",
       "      <th>4</th>\n",
       "      <td>4.35</td>\n",
       "      <td>2020-05-05 10:25:26</td>\n",
       "    </tr>\n",
       "  </tbody>\n",
       "</table>\n",
       "</div>"
      ],
      "text/plain": [
       "     CO            DateTime\n",
       "0  5.37 2020-05-05 10:25:01\n",
       "1  5.13 2020-05-05 11:25:02\n",
       "2  4.89 2020-05-05 10:25:26\n",
       "3  4.71 2020-05-05 10:25:26\n",
       "4  4.35 2020-05-05 10:25:26"
      ]
     },
     "execution_count": 43,
     "metadata": {},
     "output_type": "execute_result"
    }
   ],
   "source": [
    "df.head()"
   ]
  },
  {
   "cell_type": "code",
   "execution_count": 44,
   "id": "38be3643",
   "metadata": {},
   "outputs": [
    {
     "data": {
      "text/html": [
       "<div>\n",
       "<style scoped>\n",
       "    .dataframe tbody tr th:only-of-type {\n",
       "        vertical-align: middle;\n",
       "    }\n",
       "\n",
       "    .dataframe tbody tr th {\n",
       "        vertical-align: top;\n",
       "    }\n",
       "\n",
       "    .dataframe thead th {\n",
       "        text-align: right;\n",
       "    }\n",
       "</style>\n",
       "<table border=\"1\" class=\"dataframe\">\n",
       "  <thead>\n",
       "    <tr style=\"text-align: right;\">\n",
       "      <th></th>\n",
       "      <th>CO</th>\n",
       "      <th>DateTime</th>\n",
       "    </tr>\n",
       "  </thead>\n",
       "  <tbody>\n",
       "    <tr>\n",
       "      <th>53561</th>\n",
       "      <td>0.93</td>\n",
       "      <td>2020-05-05 18:09:58</td>\n",
       "    </tr>\n",
       "    <tr>\n",
       "      <th>53562</th>\n",
       "      <td>0.95</td>\n",
       "      <td>2020-05-05 18:09:59</td>\n",
       "    </tr>\n",
       "    <tr>\n",
       "      <th>53563</th>\n",
       "      <td>0.93</td>\n",
       "      <td>2020-05-05 18:09:06</td>\n",
       "    </tr>\n",
       "    <tr>\n",
       "      <th>53564</th>\n",
       "      <td>0.92</td>\n",
       "      <td>2020-05-05 18:09:07</td>\n",
       "    </tr>\n",
       "    <tr>\n",
       "      <th>53565</th>\n",
       "      <td>1.00</td>\n",
       "      <td>2020-05-05 18:09:09</td>\n",
       "    </tr>\n",
       "  </tbody>\n",
       "</table>\n",
       "</div>"
      ],
      "text/plain": [
       "         CO            DateTime\n",
       "53561  0.93 2020-05-05 18:09:58\n",
       "53562  0.95 2020-05-05 18:09:59\n",
       "53563  0.93 2020-05-05 18:09:06\n",
       "53564  0.92 2020-05-05 18:09:07\n",
       "53565  1.00 2020-05-05 18:09:09"
      ]
     },
     "execution_count": 44,
     "metadata": {},
     "output_type": "execute_result"
    }
   ],
   "source": [
    "df.tail()"
   ]
  },
  {
   "cell_type": "code",
   "execution_count": 45,
   "id": "f5eb37db",
   "metadata": {},
   "outputs": [
    {
     "data": {
      "text/plain": [
       "array(['2020-05-05T10:25:01.000000000', '2020-05-05T11:25:02.000000000',\n",
       "       '2020-05-05T10:25:26.000000000', ...,\n",
       "       '2020-05-05T18:09:06.000000000', '2020-05-05T18:09:07.000000000',\n",
       "       '2020-05-05T18:09:09.000000000'], dtype='datetime64[ns]')"
      ]
     },
     "execution_count": 45,
     "metadata": {},
     "output_type": "execute_result"
    }
   ],
   "source": [
    "df.DateTime.values"
   ]
  },
  {
   "cell_type": "code",
   "execution_count": 46,
   "id": "3faab1d2",
   "metadata": {},
   "outputs": [
    {
     "name": "stdout",
     "output_type": "stream",
     "text": [
      "<class 'pandas.core.frame.DataFrame'>\n",
      "Int64Index: 53563 entries, 0 to 53565\n",
      "Data columns (total 2 columns):\n",
      " #   Column    Non-Null Count  Dtype         \n",
      "---  ------    --------------  -----         \n",
      " 0   CO        53563 non-null  float64       \n",
      " 1   DateTime  53563 non-null  datetime64[ns]\n",
      "dtypes: datetime64[ns](1), float64(1)\n",
      "memory usage: 3.2 MB\n"
     ]
    }
   ],
   "source": [
    "df.info()"
   ]
  },
  {
   "cell_type": "code",
   "execution_count": 47,
   "id": "a4da8c5d",
   "metadata": {},
   "outputs": [],
   "source": [
    "df = df.sort_values('DateTime')"
   ]
  },
  {
   "cell_type": "code",
   "execution_count": 48,
   "id": "0aba8bca",
   "metadata": {},
   "outputs": [
    {
     "data": {
      "image/png": "[encoded data removed]",
      "text/plain": [
       "<Figure size 2160x648 with 1 Axes>"
      ]
     },
     "metadata": {
      "needs_background": "light"
     },
     "output_type": "display_data"
    }
   ],
   "source": [
    "plt.figure(figsize = (30,9))\n",
    "plt.plot(df[\"DateTime\"],df['CO'])\n",
    "# plt.xticks(range(0,df.shape[0],5),df['DateTime'].loc[::5],rotation=45)\n",
    "plt.xlabel('Date',fontsize=18)\n",
    "plt.ylabel('Mid Price',fontsize=18)\n",
    "plt.show()"
   ]
  },
  {
   "cell_type": "code",
   "execution_count": 49,
   "id": "a70b1277",
   "metadata": {},
   "outputs": [
    {
     "data": {
      "text/html": [
       "<div>\n",
       "<style scoped>\n",
       "    .dataframe tbody tr th:only-of-type {\n",
       "        vertical-align: middle;\n",
       "    }\n",
       "\n",
       "    .dataframe tbody tr th {\n",
       "        vertical-align: top;\n",
       "    }\n",
       "\n",
       "    .dataframe thead th {\n",
       "        text-align: right;\n",
       "    }\n",
       "</style>\n",
       "<table border=\"1\" class=\"dataframe\">\n",
       "  <thead>\n",
       "    <tr style=\"text-align: right;\">\n",
       "      <th></th>\n",
       "      <th>CO</th>\n",
       "      <th>DateTime</th>\n",
       "    </tr>\n",
       "  </thead>\n",
       "  <tbody>\n",
       "    <tr>\n",
       "      <th>0</th>\n",
       "      <td>5.37</td>\n",
       "      <td>2020-05-05 10:25:01</td>\n",
       "    </tr>\n",
       "    <tr>\n",
       "      <th>24</th>\n",
       "      <td>2.45</td>\n",
       "      <td>2020-05-05 10:25:26</td>\n",
       "    </tr>\n",
       "    <tr>\n",
       "      <th>25</th>\n",
       "      <td>2.40</td>\n",
       "      <td>2020-05-05 10:25:26</td>\n",
       "    </tr>\n",
       "    <tr>\n",
       "      <th>26</th>\n",
       "      <td>2.35</td>\n",
       "      <td>2020-05-05 10:25:26</td>\n",
       "    </tr>\n",
       "    <tr>\n",
       "      <th>27</th>\n",
       "      <td>2.33</td>\n",
       "      <td>2020-05-05 10:25:26</td>\n",
       "    </tr>\n",
       "  </tbody>\n",
       "</table>\n",
       "</div>"
      ],
      "text/plain": [
       "      CO            DateTime\n",
       "0   5.37 2020-05-05 10:25:01\n",
       "24  2.45 2020-05-05 10:25:26\n",
       "25  2.40 2020-05-05 10:25:26\n",
       "26  2.35 2020-05-05 10:25:26\n",
       "27  2.33 2020-05-05 10:25:26"
      ]
     },
     "execution_count": 49,
     "metadata": {},
     "output_type": "execute_result"
    }
   ],
   "source": [
    "df.head()"
   ]
  },
  {
   "cell_type": "code",
   "execution_count": 50,
   "id": "982292cf",
   "metadata": {},
   "outputs": [],
   "source": [
    "scale=MinMaxScaler(feature_range = (0, 1))\n",
    "df[['CO']]=scale.fit_transform(df[['CO']])"
   ]
  },
  {
   "cell_type": "code",
   "execution_count": 51,
   "id": "61a131fd",
   "metadata": {},
   "outputs": [
    {
     "data": {
      "image/png": "[encoded data removed]",
      "text/plain": [
       "<Figure size 720x720 with 1 Axes>"
      ]
     },
     "metadata": {
      "needs_background": "light"
     },
     "output_type": "display_data"
    }
   ],
   "source": [
    "plt.figure(figsize=(10,10))\n",
    "plt.grid()\n",
    "plt.plot(df.CO,marker=\"o\", markersize=2,\n",
    "markerfacecolor=\"green\")\n",
    "plt.show()"
   ]
  },
  {
   "cell_type": "code",
   "execution_count": 52,
   "id": "102c24bf",
   "metadata": {},
   "outputs": [
    {
     "name": "stdout",
     "output_type": "stream",
     "text": [
      "45528 8035\n"
     ]
    }
   ],
   "source": [
    "train_size = int(len(df) * 0.85)\n",
    "test_size = len(df) - train_size\n",
    "train, test = df.iloc[0:train_size], df.iloc[train_size:len(df)]\n",
    "print(len(train), len(test))"
   ]
  },
  {
   "cell_type": "code",
   "execution_count": 53,
   "id": "0de9a750",
   "metadata": {},
   "outputs": [
    {
     "data": {
      "text/html": [
       "<div>\n",
       "<style scoped>\n",
       "    .dataframe tbody tr th:only-of-type {\n",
       "        vertical-align: middle;\n",
       "    }\n",
       "\n",
       "    .dataframe tbody tr th {\n",
       "        vertical-align: top;\n",
       "    }\n",
       "\n",
       "    .dataframe thead th {\n",
       "        text-align: right;\n",
       "    }\n",
       "</style>\n",
       "<table border=\"1\" class=\"dataframe\">\n",
       "  <thead>\n",
       "    <tr style=\"text-align: right;\">\n",
       "      <th></th>\n",
       "      <th>CO</th>\n",
       "      <th>DateTime</th>\n",
       "    </tr>\n",
       "  </thead>\n",
       "  <tbody>\n",
       "    <tr>\n",
       "      <th>0</th>\n",
       "      <td>0.1074</td>\n",
       "      <td>2020-05-05 10:25:01</td>\n",
       "    </tr>\n",
       "    <tr>\n",
       "      <th>24</th>\n",
       "      <td>0.0490</td>\n",
       "      <td>2020-05-05 10:25:26</td>\n",
       "    </tr>\n",
       "    <tr>\n",
       "      <th>25</th>\n",
       "      <td>0.0480</td>\n",
       "      <td>2020-05-05 10:25:26</td>\n",
       "    </tr>\n",
       "    <tr>\n",
       "      <th>26</th>\n",
       "      <td>0.0470</td>\n",
       "      <td>2020-05-05 10:25:26</td>\n",
       "    </tr>\n",
       "    <tr>\n",
       "      <th>27</th>\n",
       "      <td>0.0466</td>\n",
       "      <td>2020-05-05 10:25:26</td>\n",
       "    </tr>\n",
       "  </tbody>\n",
       "</table>\n",
       "</div>"
      ],
      "text/plain": [
       "        CO            DateTime\n",
       "0   0.1074 2020-05-05 10:25:01\n",
       "24  0.0490 2020-05-05 10:25:26\n",
       "25  0.0480 2020-05-05 10:25:26\n",
       "26  0.0470 2020-05-05 10:25:26\n",
       "27  0.0466 2020-05-05 10:25:26"
      ]
     },
     "execution_count": 53,
     "metadata": {},
     "output_type": "execute_result"
    }
   ],
   "source": [
    "df.head()"
   ]
  },
  {
   "cell_type": "code",
   "execution_count": 54,
   "id": "a55b6282",
   "metadata": {},
   "outputs": [
    {
     "name": "stderr",
     "output_type": "stream",
     "text": [
      "/Library/Frameworks/Python.framework/Versions/3.10/lib/python3.10/site-packages/pandas/core/indexing.py:1835: SettingWithCopyWarning: \n",
      "A value is trying to be set on a copy of a slice from a DataFrame.\n",
      "Try using .loc[row_indexer,col_indexer] = value instead\n",
      "\n",
      "See the caveats in the documentation: https://pandas.pydata.org/pandas-docs/stable/user_guide/indexing.html#returning-a-view-versus-a-copy\n",
      "  self._setitem_single_column(loc, value[:, i].tolist(), pi)\n",
      "/var/folders/p5/43_fhp1s30z3w0n_dtmwxmvm0000gn/T/ipykernel_1342/1521668219.py:12: SettingWithCopyWarning: \n",
      "A value is trying to be set on a copy of a slice from a DataFrame.\n",
      "Try using .loc[row_indexer,col_indexer] = value instead\n",
      "\n",
      "See the caveats in the documentation: https://pandas.pydata.org/pandas-docs/stable/user_guide/indexing.html#returning-a-view-versus-a-copy\n",
      "  train['CO'] = cnt_transformer.transform(train[['CO']])\n",
      "/Library/Frameworks/Python.framework/Versions/3.10/lib/python3.10/site-packages/pandas/core/indexing.py:1835: SettingWithCopyWarning: \n",
      "A value is trying to be set on a copy of a slice from a DataFrame.\n",
      "Try using .loc[row_indexer,col_indexer] = value instead\n",
      "\n",
      "See the caveats in the documentation: https://pandas.pydata.org/pandas-docs/stable/user_guide/indexing.html#returning-a-view-versus-a-copy\n",
      "  self._setitem_single_column(loc, value[:, i].tolist(), pi)\n",
      "/var/folders/p5/43_fhp1s30z3w0n_dtmwxmvm0000gn/T/ipykernel_1342/1521668219.py:15: SettingWithCopyWarning: \n",
      "A value is trying to be set on a copy of a slice from a DataFrame.\n",
      "Try using .loc[row_indexer,col_indexer] = value instead\n",
      "\n",
      "See the caveats in the documentation: https://pandas.pydata.org/pandas-docs/stable/user_guide/indexing.html#returning-a-view-versus-a-copy\n",
      "  test['CO'] = cnt_transformer.transform(test[['CO']])\n"
     ]
    }
   ],
   "source": [
    "from sklearn.preprocessing import RobustScaler\n",
    "\n",
    "f_columns = ['DateTime']\n",
    "\n",
    "f_transformer = RobustScaler()\n",
    "cnt_transformer = RobustScaler()\n",
    "\n",
    "f_transformer = f_transformer.fit(train[f_columns].to_numpy())\n",
    "cnt_transformer = cnt_transformer.fit(train[['CO']])\n",
    "\n",
    "train.loc[:, f_columns] = f_transformer.transform(train[f_columns].to_numpy())\n",
    "train['CO'] = cnt_transformer.transform(train[['CO']])\n",
    "\n",
    "test.loc[:, f_columns] = f_transformer.transform(test[f_columns].to_numpy())\n",
    "test['CO'] = cnt_transformer.transform(test[['CO']])"
   ]
  },
  {
   "cell_type": "code",
   "execution_count": 55,
   "id": "8c0db364",
   "metadata": {},
   "outputs": [],
   "source": [
    "\n",
    "def create_dataset(X, y, time_steps=1):\n",
    "    Xs, ys = [], []\n",
    "    for i in range(len(X) - time_steps):\n",
    "        v = X.iloc[i:(i + time_steps)].values\n",
    "        Xs.append(v)        \n",
    "        ys.append(y.iloc[i + time_steps])\n",
    "    return np.array(Xs), np.array(ys)"
   ]
  },
  {
   "cell_type": "code",
   "execution_count": 56,
   "id": "6283aa06",
   "metadata": {},
   "outputs": [
    {
     "name": "stdout",
     "output_type": "stream",
     "text": [
      "(45518, 10, 2) (45518,)\n"
     ]
    }
   ],
   "source": [
    "time_steps = 10\n",
    "\n",
    "# reshape to [samples, time_steps, n_features]\n",
    "\n",
    "X_train, y_train = create_dataset(train, train.CO, time_steps)\n",
    "X_test, y_test = create_dataset(test, test.CO, time_steps)\n",
    "\n",
    "print(X_train.shape, y_train.shape)"
   ]
  },
  {
   "cell_type": "code",
   "execution_count": 57,
   "id": "c6d2c5fa",
   "metadata": {},
   "outputs": [
    {
     "data": {
      "text/plain": [
       "'2.8.0-rc0'"
      ]
     },
     "execution_count": 57,
     "metadata": {},
     "output_type": "execute_result"
    }
   ],
   "source": [
    "tf.__version__"
   ]
  },
  {
   "cell_type": "markdown",
   "id": "19a58f4c",
   "metadata": {},
   "source": [
    "# LSTM "
   ]
  },
  {
   "cell_type": "code",
   "execution_count": 97,
   "id": "f7667703",
   "metadata": {},
   "outputs": [
    {
     "name": "stderr",
     "output_type": "stream",
     "text": [
      "2022-05-24 13:41:12.488327: I tensorflow/core/platform/cpu_feature_guard.cc:151] This TensorFlow binary is optimized with oneAPI Deep Neural Network Library (oneDNN) to use the following CPU instructions in performance-critical operations:  AVX2 FMA\n",
      "To enable them in other operations, rebuild TensorFlow with the appropriate compiler flags.\n"
     ]
    }
   ],
   "source": [
    "#initialisizng the model \n",
    "model= keras.Sequential()\n",
    "\n",
    "#First Input layer and LSTM layer with 0.2% dropout\n",
    "model.add(keras.layers.LSTM(units=50,return_sequences=True,kernel_initializer='glorot_uniform',input_shape=(X_train.shape[1], X_train.shape[2])))\n",
    "model.add(keras.layers.Dropout(0.2))\n",
    "\n",
    "# Where:\n",
    "#     return_sequences: Boolean. Whether to return the last output in the output sequence, or the full sequence.\n",
    "\n",
    "# Second LSTM layer with 0.2% dropout\n",
    "model.add(keras.layers.LSTM(units=50,kernel_initializer='glorot_uniform',return_sequences=True))\n",
    "model.add(keras.layers.Dropout(0.2))\n",
    "\n",
    "#Third LSTM layer with 0.2% dropout\n",
    "model.add(keras.layers.LSTM(units=50,kernel_initializer='glorot_uniform',return_sequences=True))\n",
    "model.add(keras.layers.Dropout(0.2))\n",
    "\n",
    "#Fourth LSTM layer with 0.2% dropout, we wont use return sequence true in last layers as we dont want to previous output\n",
    "model.add(keras.layers.LSTM(units=50,kernel_initializer='glorot_uniform'))\n",
    "model.add(keras.layers.Dropout(0.2))\n",
    "#Output layer , we wont pass any activation as its continous value model\n",
    "model.add(keras.layers.Dense(units=1))\n",
    "model.compile(loss='mean_squared_error',optimizer='adam')"
   ]
  },
  {
   "cell_type": "code",
   "execution_count": 98,
   "id": "1ff35396",
   "metadata": {},
   "outputs": [
    {
     "name": "stdout",
     "output_type": "stream",
     "text": [
      "Epoch 1/300\n",
      "1281/1281 [==============================] - 20s 13ms/step - loss: 0.6136 - val_loss: 0.0128\n",
      "Epoch 2/300\n",
      "1281/1281 [==============================] - 15s 12ms/step - loss: 0.4690 - val_loss: 0.0082\n",
      "Epoch 3/300\n",
      "1281/1281 [==============================] - 15s 12ms/step - loss: 0.2918 - val_loss: 0.0033\n",
      "Epoch 4/300\n",
      "1281/1281 [==============================] - 15s 12ms/step - loss: 0.1732 - val_loss: 0.0033\n",
      "Epoch 5/300\n",
      "1281/1281 [==============================] - 15s 12ms/step - loss: 0.1614 - val_loss: 0.0014\n",
      "Epoch 6/300\n",
      "1281/1281 [==============================] - 15s 12ms/step - loss: 0.1384 - val_loss: 0.0048\n",
      "Epoch 7/300\n",
      "1281/1281 [==============================] - 15s 12ms/step - loss: 0.1383 - val_loss: 0.0099\n",
      "Epoch 8/300\n",
      "1281/1281 [==============================] - 15s 12ms/step - loss: 0.1059 - val_loss: 0.0121\n",
      "Epoch 9/300\n",
      "1281/1281 [==============================] - 15s 12ms/step - loss: 0.1090 - val_loss: 0.0136\n",
      "Epoch 10/300\n",
      "1281/1281 [==============================] - 15s 12ms/step - loss: 0.0970 - val_loss: 0.0074\n",
      "Epoch 11/300\n",
      "1281/1281 [==============================] - 15s 12ms/step - loss: 0.1004 - val_loss: 0.0054\n",
      "Epoch 12/300\n",
      "1281/1281 [==============================] - 15s 12ms/step - loss: 0.0896 - val_loss: 0.0050\n",
      "Epoch 13/300\n",
      "1281/1281 [==============================] - 15s 12ms/step - loss: 0.1062 - val_loss: 0.0046\n",
      "Epoch 14/300\n",
      "1281/1281 [==============================] - 15s 12ms/step - loss: 0.1026 - val_loss: 0.0046\n",
      "Epoch 15/300\n",
      "1281/1281 [==============================] - 15s 12ms/step - loss: 0.0901 - val_loss: 0.0050\n",
      "Epoch 16/300\n",
      "1281/1281 [==============================] - 15s 12ms/step - loss: 0.0853 - val_loss: 0.0051\n",
      "Epoch 17/300\n",
      "1281/1281 [==============================] - 15s 12ms/step - loss: 0.0831 - val_loss: 0.0052\n",
      "Epoch 18/300\n",
      "1281/1281 [==============================] - 15s 12ms/step - loss: 0.1070 - val_loss: 0.0046\n",
      "Epoch 19/300\n",
      "1281/1281 [==============================] - 15s 12ms/step - loss: 0.0868 - val_loss: 0.0045\n",
      "Epoch 20/300\n",
      "1281/1281 [==============================] - 15s 12ms/step - loss: 0.0888 - val_loss: 0.0047\n",
      "Epoch 21/300\n",
      "1281/1281 [==============================] - 15s 12ms/step - loss: 0.0847 - val_loss: 0.0048\n",
      "Epoch 22/300\n",
      "1281/1281 [==============================] - 15s 12ms/step - loss: 0.0757 - val_loss: 0.0047\n",
      "Epoch 23/300\n",
      "1281/1281 [==============================] - 15s 12ms/step - loss: 0.0909 - val_loss: 0.0046\n",
      "Epoch 24/300\n",
      "1281/1281 [==============================] - 15s 12ms/step - loss: 0.0808 - val_loss: 0.0048\n",
      "Epoch 25/300\n",
      "1281/1281 [==============================] - 15s 12ms/step - loss: 0.0923 - val_loss: 0.0045\n",
      "Epoch 26/300\n",
      "1281/1281 [==============================] - 15s 12ms/step - loss: 0.0797 - val_loss: 0.0049\n",
      "Epoch 27/300\n",
      "1281/1281 [==============================] - 15s 12ms/step - loss: 0.0799 - val_loss: 0.0052\n",
      "Epoch 28/300\n",
      "1281/1281 [==============================] - 15s 12ms/step - loss: 0.0761 - val_loss: 0.0046\n",
      "Epoch 29/300\n",
      "1281/1281 [==============================] - 15s 12ms/step - loss: 0.0809 - val_loss: 0.0056\n",
      "Epoch 30/300\n",
      "1281/1281 [==============================] - 15s 12ms/step - loss: 0.0871 - val_loss: 0.0044\n",
      "Epoch 31/300\n",
      "1281/1281 [==============================] - 15s 12ms/step - loss: 0.0810 - val_loss: 0.0045\n",
      "Epoch 32/300\n",
      "1281/1281 [==============================] - 15s 12ms/step - loss: 0.0772 - val_loss: 0.0043\n",
      "Epoch 33/300\n",
      "1281/1281 [==============================] - 15s 12ms/step - loss: 0.0737 - val_loss: 0.0047\n",
      "Epoch 34/300\n",
      "1281/1281 [==============================] - 15s 12ms/step - loss: 0.0808 - val_loss: 0.0050\n",
      "Epoch 35/300\n",
      "1281/1281 [==============================] - 15s 12ms/step - loss: 0.0748 - val_loss: 0.0052\n",
      "Epoch 36/300\n",
      "1281/1281 [==============================] - 15s 12ms/step - loss: 0.0720 - val_loss: 0.0050\n",
      "Epoch 37/300\n",
      "1281/1281 [==============================] - 15s 12ms/step - loss: 0.0828 - val_loss: 0.0035\n",
      "Epoch 38/300\n",
      "1281/1281 [==============================] - 15s 12ms/step - loss: 0.0797 - val_loss: 0.0041\n",
      "Epoch 39/300\n",
      "1281/1281 [==============================] - 16s 13ms/step - loss: 0.0819 - val_loss: 0.0046\n",
      "Epoch 40/300\n",
      "1281/1281 [==============================] - 16s 13ms/step - loss: 0.0709 - val_loss: 0.0048\n",
      "Epoch 41/300\n",
      "1281/1281 [==============================] - 16s 13ms/step - loss: 0.0745 - val_loss: 0.0060\n",
      "Epoch 42/300\n",
      "1281/1281 [==============================] - 15s 12ms/step - loss: 0.0736 - val_loss: 0.0044\n",
      "Epoch 43/300\n",
      "1281/1281 [==============================] - 16s 12ms/step - loss: 0.0730 - val_loss: 0.0050\n",
      "Epoch 44/300\n",
      "1281/1281 [==============================] - 15s 12ms/step - loss: 0.0680 - val_loss: 0.0049\n",
      "Epoch 45/300\n",
      "1281/1281 [==============================] - 15s 12ms/step - loss: 0.0803 - val_loss: 0.0038\n",
      "Epoch 46/300\n",
      "1281/1281 [==============================] - 16s 12ms/step - loss: 0.0778 - val_loss: 0.0038\n",
      "Epoch 47/300\n",
      "1281/1281 [==============================] - 16s 12ms/step - loss: 0.0704 - val_loss: 0.0052\n",
      "Epoch 48/300\n",
      "1281/1281 [==============================] - 17s 13ms/step - loss: 0.0705 - val_loss: 0.0051\n",
      "Epoch 49/300\n",
      "1281/1281 [==============================] - 16s 12ms/step - loss: 0.0847 - val_loss: 0.0042\n",
      "Epoch 50/300\n",
      "1281/1281 [==============================] - 15s 12ms/step - loss: 0.0770 - val_loss: 0.0039\n",
      "Epoch 51/300\n",
      "1281/1281 [==============================] - 15s 12ms/step - loss: 0.0737 - val_loss: 0.0045\n",
      "Epoch 52/300\n",
      "1281/1281 [==============================] - 14s 11ms/step - loss: 0.0733 - val_loss: 0.0040\n",
      "Epoch 53/300\n",
      "1281/1281 [==============================] - 14s 11ms/step - loss: 0.0732 - val_loss: 0.0036\n",
      "Epoch 54/300\n",
      "1281/1281 [==============================] - 15s 11ms/step - loss: 0.0663 - val_loss: 0.0041\n",
      "Epoch 55/300\n",
      "1281/1281 [==============================] - 14s 11ms/step - loss: 0.0664 - val_loss: 0.0045\n",
      "Epoch 56/300\n",
      "1281/1281 [==============================] - 14s 11ms/step - loss: 0.0692 - val_loss: 0.0038\n",
      "Epoch 57/300\n",
      "1281/1281 [==============================] - 14s 11ms/step - loss: 0.0677 - val_loss: 0.0068\n",
      "Epoch 58/300\n",
      "1281/1281 [==============================] - 15s 11ms/step - loss: 0.0744 - val_loss: 0.0056\n",
      "Epoch 59/300\n",
      "1281/1281 [==============================] - 15s 11ms/step - loss: 0.0599 - val_loss: 0.0075\n",
      "Epoch 60/300\n",
      "1281/1281 [==============================] - 15s 11ms/step - loss: 0.0691 - val_loss: 0.0054\n",
      "Epoch 61/300\n",
      "1281/1281 [==============================] - 15s 11ms/step - loss: 0.0600 - val_loss: 0.0048\n",
      "Epoch 62/300\n",
      "1281/1281 [==============================] - 15s 12ms/step - loss: 0.0670 - val_loss: 0.0041\n",
      "Epoch 63/300\n",
      "1281/1281 [==============================] - 15s 12ms/step - loss: 0.0622 - val_loss: 0.0046\n",
      "Epoch 64/300\n",
      "1281/1281 [==============================] - 15s 12ms/step - loss: 0.0639 - val_loss: 0.0059\n",
      "Epoch 65/300\n",
      "1281/1281 [==============================] - 15s 12ms/step - loss: 0.0636 - val_loss: 0.0054\n",
      "Epoch 66/300\n",
      "1281/1281 [==============================] - 15s 12ms/step - loss: 0.0716 - val_loss: 0.0047\n",
      "Epoch 67/300\n",
      "1281/1281 [==============================] - 15s 12ms/step - loss: 0.0607 - val_loss: 0.0042\n",
      "Epoch 68/300\n",
      "1281/1281 [==============================] - 15s 12ms/step - loss: 0.0677 - val_loss: 0.0050\n",
      "Epoch 69/300\n",
      "1281/1281 [==============================] - 15s 12ms/step - loss: 0.0609 - val_loss: 0.0051\n",
      "Epoch 70/300\n",
      "1281/1281 [==============================] - 15s 12ms/step - loss: 0.0607 - val_loss: 0.0060\n",
      "Epoch 71/300\n",
      "1281/1281 [==============================] - 15s 12ms/step - loss: 0.0561 - val_loss: 0.0045\n",
      "Epoch 72/300\n",
      "1281/1281 [==============================] - 15s 12ms/step - loss: 0.0649 - val_loss: 0.0044\n",
      "Epoch 73/300\n",
      "1281/1281 [==============================] - 15s 12ms/step - loss: 0.0562 - val_loss: 0.0044\n",
      "Epoch 74/300\n",
      "1281/1281 [==============================] - 15s 12ms/step - loss: 0.0579 - val_loss: 0.0044\n",
      "Epoch 75/300\n",
      "1281/1281 [==============================] - 15s 12ms/step - loss: 0.0536 - val_loss: 0.0064\n",
      "Epoch 76/300\n",
      "1281/1281 [==============================] - 15s 12ms/step - loss: 0.0505 - val_loss: 0.0062\n",
      "Epoch 77/300\n",
      "1281/1281 [==============================] - 15s 12ms/step - loss: 0.0696 - val_loss: 0.0059\n",
      "Epoch 78/300\n",
      "1281/1281 [==============================] - 15s 12ms/step - loss: 0.0573 - val_loss: 0.0044\n",
      "Epoch 79/300\n",
      "1281/1281 [==============================] - 15s 12ms/step - loss: 0.0535 - val_loss: 0.0047\n",
      "Epoch 80/300\n",
      "1281/1281 [==============================] - 15s 12ms/step - loss: 0.0502 - val_loss: 0.0063\n",
      "Epoch 81/300\n",
      "1281/1281 [==============================] - 15s 12ms/step - loss: 0.0526 - val_loss: 0.0054\n",
      "Epoch 82/300\n",
      "1281/1281 [==============================] - 15s 12ms/step - loss: 0.0534 - val_loss: 0.0055\n",
      "Epoch 83/300\n",
      "1281/1281 [==============================] - 15s 12ms/step - loss: 0.0526 - val_loss: 0.0046\n",
      "Epoch 84/300\n",
      "1281/1281 [==============================] - 15s 12ms/step - loss: 0.0543 - val_loss: 0.0061\n",
      "Epoch 85/300\n",
      "1281/1281 [==============================] - 15s 12ms/step - loss: 0.0542 - val_loss: 0.0047\n",
      "Epoch 86/300\n",
      "1281/1281 [==============================] - 15s 12ms/step - loss: 0.0517 - val_loss: 0.0061\n",
      "Epoch 87/300\n",
      "1281/1281 [==============================] - 15s 12ms/step - loss: 0.0499 - val_loss: 0.0054\n",
      "Epoch 88/300\n",
      "1281/1281 [==============================] - 15s 12ms/step - loss: 0.0565 - val_loss: 0.0056\n",
      "Epoch 89/300\n",
      "1281/1281 [==============================] - 15s 12ms/step - loss: 0.0537 - val_loss: 0.0051\n",
      "Epoch 90/300\n",
      "1281/1281 [==============================] - 15s 12ms/step - loss: 0.0530 - val_loss: 0.0056\n",
      "Epoch 91/300\n",
      "1281/1281 [==============================] - 15s 12ms/step - loss: 0.0525 - val_loss: 0.0048\n",
      "Epoch 92/300\n",
      "1281/1281 [==============================] - 15s 12ms/step - loss: 0.0609 - val_loss: 0.0047\n",
      "Epoch 93/300\n",
      "1281/1281 [==============================] - 15s 12ms/step - loss: 0.0482 - val_loss: 0.0045\n",
      "Epoch 94/300\n",
      "1281/1281 [==============================] - 15s 12ms/step - loss: 0.0512 - val_loss: 0.0065\n",
      "Epoch 95/300\n",
      "1281/1281 [==============================] - 15s 12ms/step - loss: 0.0493 - val_loss: 0.0058\n",
      "Epoch 96/300\n",
      "1281/1281 [==============================] - 15s 12ms/step - loss: 0.0514 - val_loss: 0.0047\n",
      "Epoch 97/300\n",
      "1281/1281 [==============================] - 15s 12ms/step - loss: 0.0489 - val_loss: 0.0052\n",
      "Epoch 98/300\n",
      "1281/1281 [==============================] - 15s 12ms/step - loss: 0.0527 - val_loss: 0.0048\n",
      "Epoch 99/300\n",
      "1281/1281 [==============================] - 15s 12ms/step - loss: 0.0530 - val_loss: 0.0050\n",
      "Epoch 100/300\n",
      "1281/1281 [==============================] - 15s 12ms/step - loss: 0.0500 - val_loss: 0.0062\n",
      "Epoch 101/300\n",
      "1281/1281 [==============================] - 15s 12ms/step - loss: 0.0587 - val_loss: 0.0049\n",
      "Epoch 102/300\n",
      "1281/1281 [==============================] - 15s 12ms/step - loss: 0.0518 - val_loss: 0.0065\n",
      "Epoch 103/300\n",
      "1281/1281 [==============================] - 15s 12ms/step - loss: 0.0457 - val_loss: 0.0057\n",
      "Epoch 104/300\n",
      "1281/1281 [==============================] - 15s 12ms/step - loss: 0.0486 - val_loss: 0.0057\n",
      "Epoch 105/300\n",
      "1281/1281 [==============================] - 15s 12ms/step - loss: 0.0474 - val_loss: 0.0059\n",
      "Epoch 106/300\n",
      "1281/1281 [==============================] - 15s 12ms/step - loss: 0.0574 - val_loss: 0.0046\n",
      "Epoch 107/300\n",
      "1281/1281 [==============================] - 15s 12ms/step - loss: 0.0458 - val_loss: 0.0057\n",
      "Epoch 108/300\n",
      "1281/1281 [==============================] - 15s 12ms/step - loss: 0.0468 - val_loss: 0.0066\n",
      "Epoch 109/300\n",
      "1281/1281 [==============================] - 15s 12ms/step - loss: 0.0482 - val_loss: 0.0069\n",
      "Epoch 110/300\n",
      "1281/1281 [==============================] - 15s 12ms/step - loss: 0.0475 - val_loss: 0.0055\n",
      "Epoch 111/300\n",
      "1281/1281 [==============================] - 15s 12ms/step - loss: 0.0462 - val_loss: 0.0066\n",
      "Epoch 112/300\n",
      "1281/1281 [==============================] - 15s 12ms/step - loss: 0.0447 - val_loss: 0.0056\n",
      "Epoch 113/300\n",
      "1281/1281 [==============================] - 15s 12ms/step - loss: 0.0603 - val_loss: 0.0053\n",
      "Epoch 114/300\n",
      "1281/1281 [==============================] - 15s 12ms/step - loss: 0.0478 - val_loss: 0.0059\n",
      "Epoch 115/300\n",
      "1281/1281 [==============================] - 15s 12ms/step - loss: 0.0484 - val_loss: 0.0058\n",
      "Epoch 116/300\n",
      "1281/1281 [==============================] - 15s 12ms/step - loss: 0.0444 - val_loss: 0.0067\n",
      "Epoch 117/300\n",
      "1281/1281 [==============================] - 15s 12ms/step - loss: 0.0490 - val_loss: 0.0066\n",
      "Epoch 118/300\n",
      "1281/1281 [==============================] - 15s 12ms/step - loss: 0.0484 - val_loss: 0.0051\n",
      "Epoch 119/300\n",
      "1281/1281 [==============================] - 15s 12ms/step - loss: 0.0484 - val_loss: 0.0046\n",
      "Epoch 120/300\n",
      "1281/1281 [==============================] - 15s 12ms/step - loss: 0.0450 - val_loss: 0.0054\n",
      "Epoch 121/300\n",
      "1281/1281 [==============================] - 15s 12ms/step - loss: 0.0472 - val_loss: 0.0046\n",
      "Epoch 122/300\n",
      "1281/1281 [==============================] - 15s 12ms/step - loss: 0.0483 - val_loss: 0.0048\n",
      "Epoch 123/300\n",
      "1281/1281 [==============================] - 15s 12ms/step - loss: 0.0511 - val_loss: 0.0047\n",
      "Epoch 124/300\n",
      "1281/1281 [==============================] - 15s 12ms/step - loss: 0.0475 - val_loss: 0.0051\n",
      "Epoch 125/300\n",
      "1281/1281 [==============================] - 15s 12ms/step - loss: 0.0497 - val_loss: 0.0057\n",
      "Epoch 126/300\n",
      "1281/1281 [==============================] - 15s 12ms/step - loss: 0.0453 - val_loss: 0.0059\n",
      "Epoch 127/300\n",
      "1281/1281 [==============================] - 15s 12ms/step - loss: 0.0460 - val_loss: 0.0045\n",
      "Epoch 128/300\n",
      "1281/1281 [==============================] - 15s 12ms/step - loss: 0.0447 - val_loss: 0.0063\n",
      "Epoch 129/300\n",
      "1281/1281 [==============================] - 15s 12ms/step - loss: 0.0418 - val_loss: 0.0058\n",
      "Epoch 130/300\n",
      "1281/1281 [==============================] - 15s 12ms/step - loss: 0.0470 - val_loss: 0.0062\n",
      "Epoch 131/300\n",
      "1281/1281 [==============================] - 15s 12ms/step - loss: 0.0428 - val_loss: 0.0071\n",
      "Epoch 132/300\n",
      "1281/1281 [==============================] - 15s 12ms/step - loss: 0.0461 - val_loss: 0.0069\n",
      "Epoch 133/300\n",
      "1281/1281 [==============================] - 16s 12ms/step - loss: 0.0460 - val_loss: 0.0046\n",
      "Epoch 134/300\n",
      "1281/1281 [==============================] - 15s 12ms/step - loss: 0.0499 - val_loss: 0.0069\n",
      "Epoch 135/300\n",
      "1281/1281 [==============================] - 15s 12ms/step - loss: 0.0459 - val_loss: 0.0058\n",
      "Epoch 136/300\n",
      "1281/1281 [==============================] - 15s 12ms/step - loss: 0.0492 - val_loss: 0.0048\n",
      "Epoch 137/300\n",
      "1281/1281 [==============================] - 15s 12ms/step - loss: 0.0459 - val_loss: 0.0046\n",
      "Epoch 138/300\n",
      "1281/1281 [==============================] - 15s 12ms/step - loss: 0.0432 - val_loss: 0.0053\n",
      "Epoch 139/300\n",
      "1281/1281 [==============================] - 15s 12ms/step - loss: 0.0413 - val_loss: 0.0047\n",
      "Epoch 140/300\n",
      "1281/1281 [==============================] - 15s 12ms/step - loss: 0.0440 - val_loss: 0.0035\n",
      "Epoch 141/300\n",
      "1281/1281 [==============================] - 15s 12ms/step - loss: 0.0421 - val_loss: 0.0046\n",
      "Epoch 142/300\n",
      "1281/1281 [==============================] - 15s 12ms/step - loss: 0.0435 - val_loss: 0.0043\n",
      "Epoch 143/300\n",
      "1281/1281 [==============================] - 16s 12ms/step - loss: 0.0448 - val_loss: 0.0034\n",
      "Epoch 144/300\n",
      "1281/1281 [==============================] - 16s 12ms/step - loss: 0.0412 - val_loss: 0.0047\n",
      "Epoch 145/300\n",
      "1281/1281 [==============================] - 15s 12ms/step - loss: 0.0472 - val_loss: 0.0056\n",
      "Epoch 146/300\n",
      "1281/1281 [==============================] - 15s 12ms/step - loss: 0.0428 - val_loss: 0.0059\n",
      "Epoch 147/300\n",
      "1281/1281 [==============================] - 15s 12ms/step - loss: 0.0449 - val_loss: 0.0053\n",
      "Epoch 148/300\n",
      "1281/1281 [==============================] - 16s 13ms/step - loss: 0.0434 - val_loss: 0.0048\n",
      "Epoch 149/300\n",
      "1281/1281 [==============================] - 15s 12ms/step - loss: 0.0458 - val_loss: 0.0048\n",
      "Epoch 150/300\n",
      "1281/1281 [==============================] - 15s 12ms/step - loss: 0.0445 - val_loss: 0.0058\n",
      "Epoch 151/300\n",
      "1281/1281 [==============================] - 15s 12ms/step - loss: 0.0393 - val_loss: 0.0068\n",
      "Epoch 152/300\n",
      "1281/1281 [==============================] - 15s 12ms/step - loss: 0.0442 - val_loss: 0.0056\n",
      "Epoch 153/300\n",
      "1281/1281 [==============================] - 15s 12ms/step - loss: 0.0419 - val_loss: 0.0061\n",
      "Epoch 154/300\n",
      "1281/1281 [==============================] - 15s 12ms/step - loss: 0.0415 - val_loss: 0.0064\n",
      "Epoch 155/300\n",
      "1281/1281 [==============================] - 15s 12ms/step - loss: 0.0403 - val_loss: 0.0055\n",
      "Epoch 156/300\n",
      "1281/1281 [==============================] - 15s 11ms/step - loss: 0.0433 - val_loss: 0.0050\n",
      "Epoch 157/300\n",
      "1281/1281 [==============================] - 15s 12ms/step - loss: 0.0477 - val_loss: 0.0050\n",
      "Epoch 158/300\n",
      "1281/1281 [==============================] - 15s 12ms/step - loss: 0.0407 - val_loss: 0.0056\n",
      "Epoch 159/300\n",
      "1281/1281 [==============================] - 15s 12ms/step - loss: 0.0426 - val_loss: 0.0050\n",
      "Epoch 160/300\n",
      "1281/1281 [==============================] - 15s 12ms/step - loss: 0.0390 - val_loss: 0.0048\n",
      "Epoch 161/300\n",
      "1281/1281 [==============================] - 15s 12ms/step - loss: 0.0406 - val_loss: 0.0062\n",
      "Epoch 162/300\n",
      "1281/1281 [==============================] - 15s 12ms/step - loss: 0.0478 - val_loss: 0.0042\n",
      "Epoch 163/300\n",
      "1281/1281 [==============================] - 15s 12ms/step - loss: 0.0396 - val_loss: 0.0053\n",
      "Epoch 164/300\n",
      "1281/1281 [==============================] - 15s 12ms/step - loss: 0.0446 - val_loss: 0.0052\n",
      "Epoch 165/300\n",
      "1281/1281 [==============================] - 15s 12ms/step - loss: 0.0401 - val_loss: 0.0057\n",
      "Epoch 166/300\n",
      "1281/1281 [==============================] - 15s 12ms/step - loss: 0.0413 - val_loss: 0.0049\n",
      "Epoch 167/300\n",
      "1281/1281 [==============================] - 15s 12ms/step - loss: 0.0423 - val_loss: 0.0050\n",
      "Epoch 168/300\n",
      "1281/1281 [==============================] - 15s 11ms/step - loss: 0.0440 - val_loss: 0.0046\n",
      "Epoch 169/300\n",
      "1281/1281 [==============================] - 15s 12ms/step - loss: 0.0412 - val_loss: 0.0053\n",
      "Epoch 170/300\n",
      "1281/1281 [==============================] - 15s 12ms/step - loss: 0.0424 - val_loss: 0.0052\n",
      "Epoch 171/300\n",
      "1281/1281 [==============================] - 15s 12ms/step - loss: 0.0373 - val_loss: 0.0053\n",
      "Epoch 172/300\n",
      "1281/1281 [==============================] - 15s 12ms/step - loss: 0.0378 - val_loss: 0.0062\n",
      "Epoch 173/300\n",
      "1281/1281 [==============================] - 15s 12ms/step - loss: 0.0394 - val_loss: 0.0064\n",
      "Epoch 174/300\n",
      "1281/1281 [==============================] - 15s 12ms/step - loss: 0.0435 - val_loss: 0.0044\n",
      "Epoch 175/300\n",
      "1281/1281 [==============================] - 15s 12ms/step - loss: 0.0381 - val_loss: 0.0046\n",
      "Epoch 176/300\n",
      "1281/1281 [==============================] - 15s 12ms/step - loss: 0.0396 - val_loss: 0.0043\n",
      "Epoch 177/300\n",
      "1281/1281 [==============================] - 15s 12ms/step - loss: 0.0402 - val_loss: 0.0056\n",
      "Epoch 178/300\n",
      "1281/1281 [==============================] - 15s 12ms/step - loss: 0.0409 - val_loss: 0.0047\n",
      "Epoch 179/300\n",
      "1281/1281 [==============================] - 15s 12ms/step - loss: 0.0395 - val_loss: 0.0053\n",
      "Epoch 180/300\n",
      "1281/1281 [==============================] - 15s 12ms/step - loss: 0.0378 - val_loss: 0.0056\n",
      "Epoch 181/300\n",
      "1281/1281 [==============================] - 15s 12ms/step - loss: 0.0397 - val_loss: 0.0048\n",
      "Epoch 182/300\n",
      "1281/1281 [==============================] - 15s 12ms/step - loss: 0.0457 - val_loss: 0.0047\n",
      "Epoch 183/300\n",
      "1281/1281 [==============================] - 15s 12ms/step - loss: 0.0389 - val_loss: 0.0039\n",
      "Epoch 184/300\n",
      "1281/1281 [==============================] - 15s 12ms/step - loss: 0.0384 - val_loss: 0.0033\n",
      "Epoch 185/300\n",
      "1281/1281 [==============================] - 15s 12ms/step - loss: 0.0432 - val_loss: 0.0042\n",
      "Epoch 186/300\n",
      "1281/1281 [==============================] - 15s 12ms/step - loss: 0.0409 - val_loss: 0.0042\n",
      "Epoch 187/300\n",
      "1281/1281 [==============================] - 15s 12ms/step - loss: 0.0431 - val_loss: 0.0040\n",
      "Epoch 188/300\n",
      "1281/1281 [==============================] - 15s 12ms/step - loss: 0.0396 - val_loss: 0.0045\n",
      "Epoch 189/300\n",
      "1281/1281 [==============================] - 15s 12ms/step - loss: 0.0398 - val_loss: 0.0053\n",
      "Epoch 190/300\n",
      "1281/1281 [==============================] - 15s 12ms/step - loss: 0.0417 - val_loss: 0.0043\n",
      "Epoch 191/300\n",
      "1281/1281 [==============================] - 15s 12ms/step - loss: 0.0379 - val_loss: 0.0044\n",
      "Epoch 192/300\n",
      "1281/1281 [==============================] - 15s 12ms/step - loss: 0.0391 - val_loss: 0.0047\n",
      "Epoch 193/300\n",
      "1281/1281 [==============================] - 15s 12ms/step - loss: 0.0364 - val_loss: 0.0051\n",
      "Epoch 194/300\n",
      "1281/1281 [==============================] - 15s 12ms/step - loss: 0.0424 - val_loss: 0.0035\n",
      "Epoch 195/300\n",
      "1281/1281 [==============================] - 15s 12ms/step - loss: 0.0357 - val_loss: 0.0037\n",
      "Epoch 196/300\n",
      "1281/1281 [==============================] - 15s 12ms/step - loss: 0.0377 - val_loss: 0.0031\n",
      "Epoch 197/300\n",
      "1281/1281 [==============================] - 15s 12ms/step - loss: 0.0373 - val_loss: 0.0039\n",
      "Epoch 198/300\n",
      "1281/1281 [==============================] - 15s 12ms/step - loss: 0.0404 - val_loss: 0.0040\n",
      "Epoch 199/300\n",
      "1281/1281 [==============================] - 15s 12ms/step - loss: 0.0414 - val_loss: 0.0048\n",
      "Epoch 200/300\n",
      "1281/1281 [==============================] - 15s 12ms/step - loss: 0.0397 - val_loss: 0.0047\n",
      "Epoch 201/300\n",
      "1281/1281 [==============================] - 15s 12ms/step - loss: 0.0372 - val_loss: 0.0042\n",
      "Epoch 202/300\n",
      "1281/1281 [==============================] - 15s 12ms/step - loss: 0.0425 - val_loss: 0.0042\n",
      "Epoch 203/300\n",
      "1281/1281 [==============================] - 15s 12ms/step - loss: 0.0410 - val_loss: 0.0043\n",
      "Epoch 204/300\n",
      "1281/1281 [==============================] - 15s 12ms/step - loss: 0.0382 - val_loss: 0.0047\n",
      "Epoch 205/300\n",
      "1281/1281 [==============================] - 15s 12ms/step - loss: 0.0388 - val_loss: 0.0043\n",
      "Epoch 206/300\n",
      "1281/1281 [==============================] - 15s 12ms/step - loss: 0.0379 - val_loss: 0.0046\n",
      "Epoch 207/300\n",
      "1281/1281 [==============================] - 15s 12ms/step - loss: 0.0414 - val_loss: 0.0037\n",
      "Epoch 208/300\n",
      "1281/1281 [==============================] - 15s 12ms/step - loss: 0.0406 - val_loss: 0.0047\n",
      "Epoch 209/300\n",
      "1281/1281 [==============================] - 15s 12ms/step - loss: 0.0371 - val_loss: 0.0043\n",
      "Epoch 210/300\n",
      "1281/1281 [==============================] - 15s 12ms/step - loss: 0.0369 - val_loss: 0.0041\n",
      "Epoch 211/300\n",
      "1281/1281 [==============================] - 15s 12ms/step - loss: 0.0440 - val_loss: 0.0045\n",
      "Epoch 212/300\n",
      "1281/1281 [==============================] - 15s 12ms/step - loss: 0.0380 - val_loss: 0.0042\n",
      "Epoch 213/300\n",
      "1281/1281 [==============================] - 15s 12ms/step - loss: 0.0383 - val_loss: 0.0040\n",
      "Epoch 214/300\n",
      "1281/1281 [==============================] - 15s 12ms/step - loss: 0.0404 - val_loss: 0.0030\n",
      "Epoch 215/300\n",
      "1281/1281 [==============================] - 17s 13ms/step - loss: 0.0371 - val_loss: 0.0027\n",
      "Epoch 216/300\n",
      "1281/1281 [==============================] - 15s 12ms/step - loss: 0.0366 - val_loss: 0.0018\n",
      "Epoch 217/300\n",
      "1281/1281 [==============================] - 16s 12ms/step - loss: 0.0440 - val_loss: 0.0015\n",
      "Epoch 218/300\n",
      "1281/1281 [==============================] - 15s 11ms/step - loss: 0.0373 - val_loss: 0.0015\n",
      "Epoch 219/300\n",
      "1281/1281 [==============================] - 16s 13ms/step - loss: 0.0381 - val_loss: 0.0024\n",
      "Epoch 220/300\n",
      "1281/1281 [==============================] - 17s 13ms/step - loss: 0.0376 - val_loss: 0.0040\n",
      "Epoch 221/300\n",
      "1281/1281 [==============================] - 16s 12ms/step - loss: 0.0360 - val_loss: 0.0036\n",
      "Epoch 222/300\n",
      "1281/1281 [==============================] - 15s 12ms/step - loss: 0.0369 - val_loss: 0.0031\n",
      "Epoch 223/300\n",
      "1281/1281 [==============================] - 16s 13ms/step - loss: 0.0418 - val_loss: 0.0020\n",
      "Epoch 224/300\n",
      "1281/1281 [==============================] - 15s 12ms/step - loss: 0.0429 - val_loss: 0.0013\n",
      "Epoch 225/300\n",
      "1281/1281 [==============================] - 14s 11ms/step - loss: 0.0397 - val_loss: 0.0026\n",
      "Epoch 226/300\n",
      "1281/1281 [==============================] - 15s 12ms/step - loss: 0.0388 - val_loss: 0.0033\n",
      "Epoch 227/300\n",
      "1281/1281 [==============================] - 15s 12ms/step - loss: 0.0398 - val_loss: 0.0024\n",
      "Epoch 228/300\n",
      "1281/1281 [==============================] - 15s 12ms/step - loss: 0.0368 - val_loss: 0.0026\n",
      "Epoch 229/300\n",
      "1281/1281 [==============================] - 15s 12ms/step - loss: 0.0360 - val_loss: 0.0022\n",
      "Epoch 230/300\n",
      "1281/1281 [==============================] - 15s 12ms/step - loss: 0.0365 - val_loss: 0.0016\n",
      "Epoch 231/300\n",
      "1281/1281 [==============================] - 15s 12ms/step - loss: 0.0364 - val_loss: 0.0019\n",
      "Epoch 232/300\n",
      "1281/1281 [==============================] - 15s 12ms/step - loss: 0.0364 - val_loss: 0.0038\n",
      "Epoch 233/300\n",
      "1281/1281 [==============================] - 15s 12ms/step - loss: 0.0372 - val_loss: 0.0018\n",
      "Epoch 234/300\n",
      "1281/1281 [==============================] - 15s 12ms/step - loss: 0.0373 - val_loss: 0.0031\n",
      "Epoch 235/300\n",
      "1281/1281 [==============================] - 17s 13ms/step - loss: 0.0373 - val_loss: 0.0033\n",
      "Epoch 236/300\n",
      "1281/1281 [==============================] - 15s 12ms/step - loss: 0.0372 - val_loss: 0.0030\n",
      "Epoch 237/300\n",
      "1281/1281 [==============================] - 15s 12ms/step - loss: 0.0367 - val_loss: 0.0036\n",
      "Epoch 238/300\n",
      "1281/1281 [==============================] - 15s 12ms/step - loss: 0.0367 - val_loss: 0.0022\n",
      "Epoch 239/300\n",
      "1281/1281 [==============================] - 15s 12ms/step - loss: 0.0420 - val_loss: 0.0014\n",
      "Epoch 240/300\n",
      "1281/1281 [==============================] - 15s 12ms/step - loss: 0.0392 - val_loss: 0.0019\n",
      "Epoch 241/300\n",
      "1281/1281 [==============================] - 16s 12ms/step - loss: 0.0383 - val_loss: 0.0015\n",
      "Epoch 242/300\n",
      "1281/1281 [==============================] - 15s 12ms/step - loss: 0.0349 - val_loss: 0.0018\n",
      "Epoch 243/300\n",
      "1281/1281 [==============================] - 17s 13ms/step - loss: 0.0351 - val_loss: 0.0017\n",
      "Epoch 244/300\n",
      "1281/1281 [==============================] - 22s 17ms/step - loss: 0.0363 - val_loss: 0.0018\n",
      "Epoch 245/300\n",
      "1281/1281 [==============================] - 23s 18ms/step - loss: 0.0373 - val_loss: 0.0026\n",
      "Epoch 246/300\n",
      "1281/1281 [==============================] - 23s 18ms/step - loss: 0.0405 - val_loss: 0.0028\n",
      "Epoch 247/300\n",
      "1281/1281 [==============================] - 23s 18ms/step - loss: 0.0367 - val_loss: 0.0020\n",
      "Epoch 248/300\n",
      "1281/1281 [==============================] - 23s 18ms/step - loss: 0.0341 - val_loss: 0.0026\n",
      "Epoch 249/300\n",
      "1281/1281 [==============================] - 23s 18ms/step - loss: 0.0360 - val_loss: 0.0015\n",
      "Epoch 250/300\n",
      "1281/1281 [==============================] - 23s 18ms/step - loss: 0.0385 - val_loss: 0.0016\n",
      "Epoch 251/300\n",
      "1281/1281 [==============================] - 23s 18ms/step - loss: 0.0371 - val_loss: 0.0014\n",
      "Epoch 252/300\n",
      "1281/1281 [==============================] - 23s 18ms/step - loss: 0.0357 - val_loss: 0.0017\n",
      "Epoch 253/300\n",
      "1281/1281 [==============================] - 23s 18ms/step - loss: 0.0387 - val_loss: 0.0016\n",
      "Epoch 254/300\n",
      "1281/1281 [==============================] - 23s 18ms/step - loss: 0.0381 - val_loss: 0.0015\n",
      "Epoch 255/300\n",
      "1281/1281 [==============================] - 23s 18ms/step - loss: 0.0362 - val_loss: 0.0017\n",
      "Epoch 256/300\n",
      "1281/1281 [==============================] - 23s 18ms/step - loss: 0.0374 - val_loss: 0.0033\n",
      "Epoch 257/300\n",
      "1281/1281 [==============================] - 23s 18ms/step - loss: 0.0347 - val_loss: 0.0030\n",
      "Epoch 258/300\n",
      "1281/1281 [==============================] - 22s 18ms/step - loss: 0.0353 - val_loss: 0.0019\n",
      "Epoch 259/300\n",
      "1281/1281 [==============================] - 23s 18ms/step - loss: 0.0383 - val_loss: 0.0021\n",
      "Epoch 260/300\n",
      "1281/1281 [==============================] - 23s 18ms/step - loss: 0.0385 - val_loss: 0.0027\n",
      "Epoch 261/300\n",
      "1281/1281 [==============================] - 23s 18ms/step - loss: 0.0370 - val_loss: 0.0026\n",
      "Epoch 262/300\n",
      "1281/1281 [==============================] - 23s 18ms/step - loss: 0.0349 - val_loss: 0.0025\n",
      "Epoch 263/300\n",
      "1281/1281 [==============================] - 23s 18ms/step - loss: 0.0354 - val_loss: 0.0018\n",
      "Epoch 264/300\n",
      "1281/1281 [==============================] - 23s 18ms/step - loss: 0.0376 - val_loss: 0.0022\n",
      "Epoch 265/300\n",
      "1281/1281 [==============================] - 22s 18ms/step - loss: 0.0348 - val_loss: 0.0022\n",
      "Epoch 266/300\n",
      "1281/1281 [==============================] - 23s 18ms/step - loss: 0.0412 - val_loss: 0.0031\n",
      "Epoch 267/300\n",
      "1281/1281 [==============================] - 23s 18ms/step - loss: 0.0374 - val_loss: 0.0026\n",
      "Epoch 268/300\n",
      "1281/1281 [==============================] - 23s 18ms/step - loss: 0.0370 - val_loss: 0.0026\n",
      "Epoch 269/300\n",
      "1281/1281 [==============================] - 23s 18ms/step - loss: 0.0368 - val_loss: 0.0030\n",
      "Epoch 270/300\n",
      "1281/1281 [==============================] - 23s 18ms/step - loss: 0.0349 - val_loss: 0.0030\n",
      "Epoch 271/300\n",
      "1281/1281 [==============================] - 23s 18ms/step - loss: 0.0363 - val_loss: 0.0014\n",
      "Epoch 272/300\n",
      "1281/1281 [==============================] - 23s 18ms/step - loss: 0.0364 - val_loss: 0.0011\n",
      "Epoch 273/300\n",
      "1281/1281 [==============================] - 23s 18ms/step - loss: 0.0381 - val_loss: 0.0011\n",
      "Epoch 274/300\n",
      "1281/1281 [==============================] - 23s 18ms/step - loss: 0.0371 - val_loss: 0.0025\n",
      "Epoch 275/300\n",
      "1281/1281 [==============================] - 23s 18ms/step - loss: 0.0349 - val_loss: 0.0018\n",
      "Epoch 276/300\n",
      "1281/1281 [==============================] - 23s 18ms/step - loss: 0.0357 - val_loss: 0.0024\n",
      "Epoch 277/300\n",
      "1281/1281 [==============================] - 23s 18ms/step - loss: 0.0361 - val_loss: 0.0019\n",
      "Epoch 278/300\n",
      "1281/1281 [==============================] - 22s 18ms/step - loss: 0.0349 - val_loss: 0.0027\n",
      "Epoch 279/300\n",
      "1281/1281 [==============================] - 23s 18ms/step - loss: 0.0361 - val_loss: 0.0030\n",
      "Epoch 280/300\n",
      "1281/1281 [==============================] - 23s 18ms/step - loss: 0.0365 - val_loss: 0.0035\n",
      "Epoch 281/300\n",
      "1281/1281 [==============================] - 23s 18ms/step - loss: 0.0349 - val_loss: 0.0026\n",
      "Epoch 282/300\n",
      "1281/1281 [==============================] - 23s 18ms/step - loss: 0.0352 - val_loss: 0.0039\n",
      "Epoch 283/300\n",
      "1281/1281 [==============================] - 24s 19ms/step - loss: 0.0365 - val_loss: 0.0019\n",
      "Epoch 284/300\n",
      "1281/1281 [==============================] - 24s 19ms/step - loss: 0.0364 - val_loss: 0.0017\n",
      "Epoch 285/300\n",
      "1281/1281 [==============================] - 24s 19ms/step - loss: 0.0349 - val_loss: 0.0019\n",
      "Epoch 286/300\n",
      "1281/1281 [==============================] - 24s 19ms/step - loss: 0.0353 - val_loss: 0.0033\n",
      "Epoch 287/300\n",
      "1281/1281 [==============================] - 25s 19ms/step - loss: 0.0360 - val_loss: 0.0031\n",
      "Epoch 288/300\n",
      "1281/1281 [==============================] - 22s 17ms/step - loss: 0.0366 - val_loss: 0.0016\n",
      "Epoch 289/300\n",
      "1281/1281 [==============================] - 22s 17ms/step - loss: 0.0350 - val_loss: 0.0017\n",
      "Epoch 290/300\n",
      "1281/1281 [==============================] - 23s 18ms/step - loss: 0.0389 - val_loss: 0.0014\n",
      "Epoch 291/300\n",
      "1281/1281 [==============================] - 23s 18ms/step - loss: 0.0359 - val_loss: 0.0029\n",
      "Epoch 292/300\n",
      "1281/1281 [==============================] - 24s 19ms/step - loss: 0.0363 - val_loss: 0.0035\n",
      "Epoch 293/300\n",
      "1281/1281 [==============================] - 26s 20ms/step - loss: 0.0392 - val_loss: 0.0030\n",
      "Epoch 294/300\n",
      "1281/1281 [==============================] - 22s 17ms/step - loss: 0.0344 - val_loss: 0.0028\n",
      "Epoch 295/300\n",
      "1281/1281 [==============================] - 22s 17ms/step - loss: 0.0380 - val_loss: 0.0023\n",
      "Epoch 296/300\n",
      "1281/1281 [==============================] - 22s 17ms/step - loss: 0.0367 - val_loss: 0.0023\n",
      "Epoch 297/300\n",
      "1281/1281 [==============================] - 23s 18ms/step - loss: 0.0362 - val_loss: 0.0027\n",
      "Epoch 298/300\n",
      "1281/1281 [==============================] - 22s 17ms/step - loss: 0.0362 - val_loss: 0.0016\n",
      "Epoch 299/300\n",
      "1281/1281 [==============================] - 21s 17ms/step - loss: 0.0365 - val_loss: 0.0015\n",
      "Epoch 300/300\n",
      "1281/1281 [==============================] - 23s 18ms/step - loss: 0.0374 - val_loss: 0.0016\n"
     ]
    }
   ],
   "source": [
    "history = model.fit(\n",
    "    X_train, y_train, \n",
    "    epochs=300, \n",
    "    batch_size=32, \n",
    "    validation_split=0.1,\n",
    "    shuffle=False\n",
    ")"
   ]
  },
  {
   "cell_type": "code",
   "execution_count": 99,
   "id": "559cb102",
   "metadata": {},
   "outputs": [
    {
     "data": {
      "image/png": "[encoded data removed]",
      "text/plain": [
       "<Figure size 1440x576 with 1 Axes>"
      ]
     },
     "metadata": {
      "needs_background": "light"
     },
     "output_type": "display_data"
    }
   ],
   "source": [
    "plt.figure(figsize=(20,8))\n",
    "plt.plot(history.history['loss'], label='train')\n",
    "plt.plot(history.history['val_loss'], label='test')\n",
    "plt.legend();"
   ]
  },
  {
   "cell_type": "code",
   "execution_count": 100,
   "id": "a8f549e0",
   "metadata": {},
   "outputs": [
    {
     "data": {
      "image/png": "[encoded data removed]",
      "text/plain": [
       "<Figure size 1440x576 with 1 Axes>"
      ]
     },
     "metadata": {
      "needs_background": "light"
     },
     "output_type": "display_data"
    }
   ],
   "source": [
    "y_pred = model.predict(X_test)\n",
    "y_train_inv = cnt_transformer.inverse_transform(y_train.reshape(1, -1))\n",
    "y_test_inv = cnt_transformer.inverse_transform(y_test.reshape(1, -1))\n",
    "y_pred_inv = cnt_transformer.inverse_transform(y_pred)\n",
    "plt.figure(figsize=(20,8))\n",
    "plt.plot(np.arange(0, len(y_train)), y_train_inv.flatten(), 'g', label=\"history\")\n",
    "plt.plot(np.arange(len(y_train), len(y_train) + len(y_test)), y_test_inv.flatten(), marker='.', label=\"true\")\n",
    "plt.plot(np.arange(len(y_train), len(y_train) + len(y_test)), y_pred_inv.flatten(), 'r', label=\"prediction\")\n",
    "plt.ylabel('CO')\n",
    "plt.xlabel('Time Step')\n",
    "plt.legend()\n",
    "plt.show();"
   ]
  },
  {
   "cell_type": "code",
   "execution_count": 101,
   "id": "18b8b103",
   "metadata": {},
   "outputs": [
    {
     "data": {
      "image/png": "[encoded data removed]",
      "text/plain": [
       "<Figure size 1440x576 with 1 Axes>"
      ]
     },
     "metadata": {
      "needs_background": "light"
     },
     "output_type": "display_data"
    }
   ],
   "source": [
    "plt.figure(figsize=(20,8))\n",
    "plt.plot(y_test_inv.flatten(), marker='.', label=\"true\")\n",
    "plt.plot(y_pred_inv.flatten(), 'r', label=\"prediction\")\n",
    "plt.ylabel('CO')\n",
    "plt.xlabel('Time Step')\n",
    "plt.legend()\n",
    "plt.show();"
   ]
  },
  {
   "cell_type": "code",
   "execution_count": 106,
   "id": "0468e187",
   "metadata": {},
   "outputs": [],
   "source": [
    "model.save('models/CO/CO_lstm.h5')"
   ]
  },
  {
   "cell_type": "code",
   "execution_count": 105,
   "id": "06c13f35",
   "metadata": {},
   "outputs": [],
   "source": [
    "import pickle\n",
    "output = open('encoders/CO_encoder.pkl', 'wb')\n",
    "pickle.dump(scale, output)\n",
    "output.close()"
   ]
  },
  {
   "cell_type": "markdown",
   "id": "da319f2d",
   "metadata": {},
   "source": [
    "# ARIME Model"
   ]
  },
  {
   "cell_type": "code",
   "execution_count": 108,
   "id": "9d13fc4a",
   "metadata": {},
   "outputs": [
    {
     "name": "stdout",
     "output_type": "stream",
     "text": [
      "Collecting statsmodels\n",
      "  Downloading statsmodels-0.13.2-cp310-cp310-macosx_10_9_x86_64.whl (9.7 MB)\n",
      "\u001b[2K     \u001b[90m━━━━━━━━━━━━━━━━━━━━━━━━━━━━━━━━━━━━━━━━\u001b[0m \u001b[32m9.7/9.7 MB\u001b[0m \u001b[31m103.9 kB/s\u001b[0m eta \u001b[36m0:00:00\u001b[0m00:01\u001b[0m0:03\u001b[0mm\n",
      "\u001b[?25hCollecting patsy>=0.5.2\n",
      "  Downloading patsy-0.5.2-py2.py3-none-any.whl (233 kB)\n",
      "\u001b[2K     \u001b[90m━━━━━━━━━━━━━━━━━━━━━━━━━━━━━━━━━━━━━\u001b[0m \u001b[32m233.7/233.7 KB\u001b[0m \u001b[31m116.4 kB/s\u001b[0m eta \u001b[36m0:00:00\u001b[0ma \u001b[36m0:00:01\u001b[0m\n",
      "\u001b[?25hRequirement already satisfied: packaging>=21.3 in /Library/Frameworks/Python.framework/Versions/3.10/lib/python3.10/site-packages (from statsmodels) (21.3)\n",
      "Requirement already satisfied: pandas>=0.25 in /Library/Frameworks/Python.framework/Versions/3.10/lib/python3.10/site-packages (from statsmodels) (1.3.5)\n",
      "Requirement already satisfied: numpy>=1.17 in /Library/Frameworks/Python.framework/Versions/3.10/lib/python3.10/site-packages (from statsmodels) (1.21.5)\n",
      "Requirement already satisfied: scipy>=1.3 in /Library/Frameworks/Python.framework/Versions/3.10/lib/python3.10/site-packages (from statsmodels) (1.7.3)\n",
      "Requirement already satisfied: pyparsing!=3.0.5,>=2.0.2 in /Library/Frameworks/Python.framework/Versions/3.10/lib/python3.10/site-packages (from packaging>=21.3->statsmodels) (3.0.8)\n",
      "Requirement already satisfied: pytz>=2017.3 in /Library/Frameworks/Python.framework/Versions/3.10/lib/python3.10/site-packages (from pandas>=0.25->statsmodels) (2021.3)\n",
      "Requirement already satisfied: python-dateutil>=2.7.3 in /Library/Frameworks/Python.framework/Versions/3.10/lib/python3.10/site-packages (from pandas>=0.25->statsmodels) (2.8.2)\n",
      "Requirement already satisfied: six in /Library/Frameworks/Python.framework/Versions/3.10/lib/python3.10/site-packages (from patsy>=0.5.2->statsmodels) (1.16.0)\n",
      "Installing collected packages: patsy, statsmodels\n",
      "Successfully installed patsy-0.5.2 statsmodels-0.13.2\n",
      "\u001b[33mWARNING: You are using pip version 22.0.4; however, version 22.1.1 is available.\n",
      "You should consider upgrading via the '/Library/Frameworks/Python.framework/Versions/3.10/bin/python3 -m pip install --upgrade pip' command.\u001b[0m\u001b[33m\n",
      "\u001b[0m"
     ]
    }
   ],
   "source": [
    "!pip install statsmodels"
   ]
  },
  {
   "cell_type": "code",
   "execution_count": 58,
   "id": "9239bd25",
   "metadata": {},
   "outputs": [],
   "source": [
    "from statsmodels.tsa.arima_model import ARIMA\n",
    "from statsmodels.graphics.tsaplots import plot_acf, plot_pacf\n"
   ]
  },
  {
   "cell_type": "code",
   "execution_count": 59,
   "id": "6bba4815",
   "metadata": {},
   "outputs": [
    {
     "data": {
      "text/html": [
       "<div>\n",
       "<style scoped>\n",
       "    .dataframe tbody tr th:only-of-type {\n",
       "        vertical-align: middle;\n",
       "    }\n",
       "\n",
       "    .dataframe tbody tr th {\n",
       "        vertical-align: top;\n",
       "    }\n",
       "\n",
       "    .dataframe thead th {\n",
       "        text-align: right;\n",
       "    }\n",
       "</style>\n",
       "<table border=\"1\" class=\"dataframe\">\n",
       "  <thead>\n",
       "    <tr style=\"text-align: right;\">\n",
       "      <th></th>\n",
       "      <th>CO</th>\n",
       "      <th>DateTime</th>\n",
       "    </tr>\n",
       "  </thead>\n",
       "  <tbody>\n",
       "    <tr>\n",
       "      <th>0</th>\n",
       "      <td>0.1074</td>\n",
       "      <td>2020-05-05 10:25:01</td>\n",
       "    </tr>\n",
       "    <tr>\n",
       "      <th>24</th>\n",
       "      <td>0.0490</td>\n",
       "      <td>2020-05-05 10:25:26</td>\n",
       "    </tr>\n",
       "    <tr>\n",
       "      <th>25</th>\n",
       "      <td>0.0480</td>\n",
       "      <td>2020-05-05 10:25:26</td>\n",
       "    </tr>\n",
       "    <tr>\n",
       "      <th>26</th>\n",
       "      <td>0.0470</td>\n",
       "      <td>2020-05-05 10:25:26</td>\n",
       "    </tr>\n",
       "    <tr>\n",
       "      <th>27</th>\n",
       "      <td>0.0466</td>\n",
       "      <td>2020-05-05 10:25:26</td>\n",
       "    </tr>\n",
       "  </tbody>\n",
       "</table>\n",
       "</div>"
      ],
      "text/plain": [
       "        CO            DateTime\n",
       "0   0.1074 2020-05-05 10:25:01\n",
       "24  0.0490 2020-05-05 10:25:26\n",
       "25  0.0480 2020-05-05 10:25:26\n",
       "26  0.0470 2020-05-05 10:25:26\n",
       "27  0.0466 2020-05-05 10:25:26"
      ]
     },
     "execution_count": 59,
     "metadata": {},
     "output_type": "execute_result"
    }
   ],
   "source": [
    "df.head()\n"
   ]
  },
  {
   "cell_type": "code",
   "execution_count": 60,
   "id": "9bf91507",
   "metadata": {},
   "outputs": [
    {
     "data": {
      "image/png": "[encoded data removed]",
      "text/plain": [
       "<Figure size 432x288 with 1 Axes>"
      ]
     },
     "execution_count": 60,
     "metadata": {},
     "output_type": "execute_result"
    },
    {
     "data": {
      "image/png": "[encoded data removed]",
      "text/plain": [
       "<Figure size 432x288 with 1 Axes>"
      ]
     },
     "metadata": {
      "needs_background": "light"
     },
     "output_type": "display_data"
    }
   ],
   "source": [
    "plot_acf(df.CO.values, lags=120)"
   ]
  },
  {
   "cell_type": "code",
   "execution_count": 61,
   "id": "8196d477",
   "metadata": {},
   "outputs": [
    {
     "name": "stderr",
     "output_type": "stream",
     "text": [
      "/Library/Frameworks/Python.framework/Versions/3.10/lib/python3.10/site-packages/statsmodels/graphics/tsaplots.py:348: FutureWarning: The default method 'yw' can produce PACF values outside of the [-1,1] interval. After 0.13, the default will change tounadjusted Yule-Walker ('ywm'). You can use this method now by setting method='ywm'.\n",
      "  warnings.warn(\n"
     ]
    },
    {
     "data": {
      "image/png": "[encoded data removed]",
      "text/plain": [
       "<Figure size 1440x576 with 2 Axes>"
      ]
     },
     "metadata": {
      "needs_background": "light"
     },
     "output_type": "display_data"
    }
   ],
   "source": [
    "f=plt.figure(figsize=(20,8))\n",
    "ax1=f.add_subplot(121)\n",
    "ax1.set_title('1st order differenced')\n",
    "ax1.plot(df.CO.diff())\n",
    "ax2=f.add_subplot(122)\n",
    "plot_pacf(df.CO.diff().dropna(), ax=ax2)\n",
    "plt.show()\n"
   ]
  },
  {
   "cell_type": "code",
   "execution_count": 62,
   "id": "af6320ca",
   "metadata": {},
   "outputs": [
    {
     "data": {
      "text/html": [
       "<div>\n",
       "<style scoped>\n",
       "    .dataframe tbody tr th:only-of-type {\n",
       "        vertical-align: middle;\n",
       "    }\n",
       "\n",
       "    .dataframe tbody tr th {\n",
       "        vertical-align: top;\n",
       "    }\n",
       "\n",
       "    .dataframe thead th {\n",
       "        text-align: right;\n",
       "    }\n",
       "</style>\n",
       "<table border=\"1\" class=\"dataframe\">\n",
       "  <thead>\n",
       "    <tr style=\"text-align: right;\">\n",
       "      <th></th>\n",
       "      <th>CO</th>\n",
       "      <th>DateTime</th>\n",
       "    </tr>\n",
       "  </thead>\n",
       "  <tbody>\n",
       "    <tr>\n",
       "      <th>0</th>\n",
       "      <td>0.1074</td>\n",
       "      <td>2020-05-05 10:25:01</td>\n",
       "    </tr>\n",
       "    <tr>\n",
       "      <th>24</th>\n",
       "      <td>0.0490</td>\n",
       "      <td>2020-05-05 10:25:26</td>\n",
       "    </tr>\n",
       "    <tr>\n",
       "      <th>25</th>\n",
       "      <td>0.0480</td>\n",
       "      <td>2020-05-05 10:25:26</td>\n",
       "    </tr>\n",
       "    <tr>\n",
       "      <th>26</th>\n",
       "      <td>0.0470</td>\n",
       "      <td>2020-05-05 10:25:26</td>\n",
       "    </tr>\n",
       "    <tr>\n",
       "      <th>27</th>\n",
       "      <td>0.0466</td>\n",
       "      <td>2020-05-05 10:25:26</td>\n",
       "    </tr>\n",
       "  </tbody>\n",
       "</table>\n",
       "</div>"
      ],
      "text/plain": [
       "        CO            DateTime\n",
       "0   0.1074 2020-05-05 10:25:01\n",
       "24  0.0490 2020-05-05 10:25:26\n",
       "25  0.0480 2020-05-05 10:25:26\n",
       "26  0.0470 2020-05-05 10:25:26\n",
       "27  0.0466 2020-05-05 10:25:26"
      ]
     },
     "execution_count": 62,
     "metadata": {},
     "output_type": "execute_result"
    }
   ],
   "source": [
    "df.head()"
   ]
  },
  {
   "cell_type": "code",
   "execution_count": 63,
   "id": "be60648f",
   "metadata": {},
   "outputs": [],
   "source": [
    "data=df.copy()\n",
    "df.set_index('DateTime', inplace=True)"
   ]
  },
  {
   "cell_type": "code",
   "execution_count": 64,
   "id": "556d8d18",
   "metadata": {},
   "outputs": [
    {
     "data": {
      "text/html": [
       "<div>\n",
       "<style scoped>\n",
       "    .dataframe tbody tr th:only-of-type {\n",
       "        vertical-align: middle;\n",
       "    }\n",
       "\n",
       "    .dataframe tbody tr th {\n",
       "        vertical-align: top;\n",
       "    }\n",
       "\n",
       "    .dataframe thead th {\n",
       "        text-align: right;\n",
       "    }\n",
       "</style>\n",
       "<table border=\"1\" class=\"dataframe\">\n",
       "  <thead>\n",
       "    <tr style=\"text-align: right;\">\n",
       "      <th></th>\n",
       "      <th>CO</th>\n",
       "    </tr>\n",
       "    <tr>\n",
       "      <th>DateTime</th>\n",
       "      <th></th>\n",
       "    </tr>\n",
       "  </thead>\n",
       "  <tbody>\n",
       "    <tr>\n",
       "      <th>2020-05-05 10:25:01</th>\n",
       "      <td>0.1074</td>\n",
       "    </tr>\n",
       "    <tr>\n",
       "      <th>2020-05-05 10:25:26</th>\n",
       "      <td>0.0490</td>\n",
       "    </tr>\n",
       "    <tr>\n",
       "      <th>2020-05-05 10:25:26</th>\n",
       "      <td>0.0480</td>\n",
       "    </tr>\n",
       "    <tr>\n",
       "      <th>2020-05-05 10:25:26</th>\n",
       "      <td>0.0470</td>\n",
       "    </tr>\n",
       "    <tr>\n",
       "      <th>2020-05-05 10:25:26</th>\n",
       "      <td>0.0466</td>\n",
       "    </tr>\n",
       "  </tbody>\n",
       "</table>\n",
       "</div>"
      ],
      "text/plain": [
       "                         CO\n",
       "DateTime                   \n",
       "2020-05-05 10:25:01  0.1074\n",
       "2020-05-05 10:25:26  0.0490\n",
       "2020-05-05 10:25:26  0.0480\n",
       "2020-05-05 10:25:26  0.0470\n",
       "2020-05-05 10:25:26  0.0466"
      ]
     },
     "execution_count": 64,
     "metadata": {},
     "output_type": "execute_result"
    }
   ],
   "source": [
    "df.head()"
   ]
  },
  {
   "cell_type": "code",
   "execution_count": 65,
   "id": "4440c943",
   "metadata": {},
   "outputs": [
    {
     "data": {
      "image/png": "[encoded data removed]",
      "text/plain": [
       "<Figure size 1000x500 with 2 Axes>"
      ]
     },
     "metadata": {
      "needs_background": "light"
     },
     "output_type": "display_data"
    }
   ],
   "source": [
    "# Plot\n",
    "fig, axes = plt.subplots(2, 1, figsize=(10,5), dpi=100, sharex=True)\n",
    "\n",
    "# Usual Differencing\n",
    "axes[0].plot(df[:], label='Original Series')\n",
    "axes[0].plot(df[:].diff(1), label='Usual Differencing')\n",
    "axes[0].set_title('Usual Differencing')\n",
    "axes[0].legend(loc='upper left', fontsize=10)\n",
    "\n",
    "\n",
    "# Seasinal Dei\n",
    "axes[1].plot(df[:], label='Original Series')\n",
    "axes[1].plot(df[:].diff(12), label='Seasonal Differencing', color='green')\n",
    "axes[1].set_title('Seasonal Differencing')\n",
    "plt.legend(loc='upper left', fontsize=10)\n",
    "plt.suptitle('a10 - Drug Sales', fontsize=16)\n",
    "plt.show()"
   ]
  },
  {
   "cell_type": "code",
   "execution_count": 66,
   "id": "d40c74a9",
   "metadata": {},
   "outputs": [
    {
     "name": "stdout",
     "output_type": "stream",
     "text": [
      "Requirement already satisfied: pmdarima in /Library/Frameworks/Python.framework/Versions/3.10/lib/python3.10/site-packages (1.8.5)\n",
      "Requirement already satisfied: pandas>=0.19 in /Library/Frameworks/Python.framework/Versions/3.10/lib/python3.10/site-packages (from pmdarima) (1.3.5)\n",
      "Requirement already satisfied: Cython!=0.29.18,>=0.29 in /Library/Frameworks/Python.framework/Versions/3.10/lib/python3.10/site-packages (from pmdarima) (0.29.30)\n",
      "Requirement already satisfied: numpy>=1.19.3 in /Library/Frameworks/Python.framework/Versions/3.10/lib/python3.10/site-packages (from pmdarima) (1.21.5)\n",
      "Requirement already satisfied: statsmodels!=0.12.0,>=0.11 in /Library/Frameworks/Python.framework/Versions/3.10/lib/python3.10/site-packages (from pmdarima) (0.13.2)\n",
      "Requirement already satisfied: setuptools!=50.0.0,>=38.6.0 in /Library/Frameworks/Python.framework/Versions/3.10/lib/python3.10/site-packages (from pmdarima) (58.1.0)\n",
      "Requirement already satisfied: joblib>=0.11 in /Library/Frameworks/Python.framework/Versions/3.10/lib/python3.10/site-packages (from pmdarima) (1.1.0)\n",
      "Requirement already satisfied: scipy>=1.3.2 in /Library/Frameworks/Python.framework/Versions/3.10/lib/python3.10/site-packages (from pmdarima) (1.7.3)\n",
      "Requirement already satisfied: urllib3 in /Library/Frameworks/Python.framework/Versions/3.10/lib/python3.10/site-packages (from pmdarima) (1.26.7)\n",
      "Requirement already satisfied: scikit-learn>=0.22 in /Library/Frameworks/Python.framework/Versions/3.10/lib/python3.10/site-packages (from pmdarima) (1.0.2)\n",
      "Requirement already satisfied: pytz>=2017.3 in /Library/Frameworks/Python.framework/Versions/3.10/lib/python3.10/site-packages (from pandas>=0.19->pmdarima) (2021.3)\n",
      "Requirement already satisfied: python-dateutil>=2.7.3 in /Library/Frameworks/Python.framework/Versions/3.10/lib/python3.10/site-packages (from pandas>=0.19->pmdarima) (2.8.2)\n",
      "Requirement already satisfied: threadpoolctl>=2.0.0 in /Library/Frameworks/Python.framework/Versions/3.10/lib/python3.10/site-packages (from scikit-learn>=0.22->pmdarima) (3.0.0)\n",
      "Requirement already satisfied: packaging>=21.3 in /Library/Frameworks/Python.framework/Versions/3.10/lib/python3.10/site-packages (from statsmodels!=0.12.0,>=0.11->pmdarima) (21.3)\n",
      "Requirement already satisfied: patsy>=0.5.2 in /Library/Frameworks/Python.framework/Versions/3.10/lib/python3.10/site-packages (from statsmodels!=0.12.0,>=0.11->pmdarima) (0.5.2)\n",
      "Requirement already satisfied: pyparsing!=3.0.5,>=2.0.2 in /Library/Frameworks/Python.framework/Versions/3.10/lib/python3.10/site-packages (from packaging>=21.3->statsmodels!=0.12.0,>=0.11->pmdarima) (3.0.8)\n",
      "Requirement already satisfied: six in /Library/Frameworks/Python.framework/Versions/3.10/lib/python3.10/site-packages (from patsy>=0.5.2->statsmodels!=0.12.0,>=0.11->pmdarima) (1.16.0)\n",
      "\u001b[33mWARNING: You are using pip version 22.0.4; however, version 22.1.1 is available.\n",
      "You should consider upgrading via the '/Library/Frameworks/Python.framework/Versions/3.10/bin/python3 -m pip install --upgrade pip' command.\u001b[0m\u001b[33m\n",
      "\u001b[0m"
     ]
    }
   ],
   "source": [
    "!pip install pmdarima"
   ]
  },
  {
   "cell_type": "code",
   "execution_count": 67,
   "id": "706b86e4",
   "metadata": {},
   "outputs": [
    {
     "name": "stdout",
     "output_type": "stream",
     "text": [
      "Performing stepwise search to minimize aic\n",
      " ARIMA(1,0,1)(0,1,1)[12] intercept   : AIC=inf, Time=177.70 sec\n",
      " ARIMA(0,0,0)(0,1,0)[12] intercept   : AIC=-189006.228, Time=6.67 sec\n",
      " ARIMA(1,0,0)(1,1,0)[12] intercept   : AIC=-264413.588, Time=73.35 sec\n",
      " ARIMA(0,0,1)(0,1,1)[12] intercept   : AIC=-234227.057, Time=75.67 sec\n",
      " ARIMA(0,0,0)(0,1,0)[12]             : AIC=-189008.225, Time=3.41 sec\n",
      " ARIMA(1,0,0)(0,1,0)[12] intercept   : AIC=-248428.402, Time=6.18 sec\n",
      " ARIMA(1,0,0)(2,1,0)[12] intercept   : AIC=-271499.375, Time=314.26 sec\n",
      " ARIMA(1,0,0)(2,1,1)[12] intercept   : AIC=inf, Time=334.47 sec\n",
      " ARIMA(1,0,0)(1,1,1)[12] intercept   : AIC=inf, Time=211.17 sec\n",
      " ARIMA(0,0,0)(2,1,0)[12] intercept   : AIC=-199601.819, Time=92.81 sec\n",
      " ARIMA(2,0,0)(2,1,0)[12] intercept   : AIC=-273098.057, Time=328.94 sec\n",
      " ARIMA(2,0,0)(1,1,0)[12] intercept   : AIC=-265783.351, Time=121.27 sec\n",
      " ARIMA(2,0,0)(2,1,1)[12] intercept   : AIC=inf, Time=377.86 sec\n",
      " ARIMA(2,0,0)(1,1,1)[12] intercept   : AIC=inf, Time=222.98 sec\n",
      " ARIMA(3,0,0)(2,1,0)[12] intercept   : AIC=-273115.504, Time=428.89 sec\n",
      " ARIMA(3,0,0)(1,1,0)[12] intercept   : AIC=-265849.553, Time=153.38 sec\n",
      " ARIMA(3,0,0)(2,1,1)[12] intercept   : AIC=-280430.840, Time=491.91 sec\n",
      " ARIMA(3,0,0)(1,1,1)[12] intercept   : AIC=inf, Time=225.59 sec\n"
     ]
    },
    {
     "ename": "",
     "evalue": "",
     "output_type": "error",
     "traceback": [
      "\u001b[1;31mCanceled future for execute_request message before replies were done"
     ]
    },
    {
     "ename": "",
     "evalue": "",
     "output_type": "error",
     "traceback": [
      "\u001b[1;31mThe Kernel crashed while executing code in the the current cell or a previous cell. Please review the code in the cell(s) to identify a possible cause of the failure. Click <a href='https://aka.ms/vscodeJupyterKernelCrash'>here</a> for more info. View Jupyter <a href='command:jupyter.viewOutput'>log</a> for further details."
     ]
    }
   ],
   "source": [
    "# Seasonal - fit stepwise auto-ARIMA\n",
    "import pmdarima as pm\n",
    "smodel = pm.auto_arima(df, start_p=1, start_q=1,\n",
    "                         test='adf',\n",
    "                         max_p=3, max_q=3, m=12,\n",
    "                         start_P=0, seasonal=True,\n",
    "                         d=None, D=1, trace=True,\n",
    "                         error_action='ignore',  \n",
    "                         suppress_warnings=True, \n",
    "                         stepwise=True)\n",
    "\n",
    "smodel.summary()"
   ]
  },
  {
   "cell_type": "code",
   "execution_count": 1,
   "id": "a0ad66ae",
   "metadata": {},
   "outputs": [
    {
     "ename": "NameError",
     "evalue": "name 'smodel' is not defined",
     "output_type": "error",
     "traceback": [
      "\u001b[0;31m---------------------------------------------------------------------------\u001b[0m",
      "\u001b[0;31mNameError\u001b[0m                                 Traceback (most recent call last)",
      "\u001b[1;32m/Users/ownsoft/Desktop/Index prediction/CO_prediction.ipynb Cell 78'\u001b[0m in \u001b[0;36m<cell line: 1>\u001b[0;34m()\u001b[0m\n\u001b[0;32m----> <a href='vscode-notebook-cell:/Users/ownsoft/Desktop/Index%20prediction/CO_prediction.ipynb#ch0000077?line=0'>1</a>\u001b[0m smodel\u001b[39m.\u001b[39msummary()\n",
      "\u001b[0;31mNameError\u001b[0m: name 'smodel' is not defined"
     ]
    }
   ],
   "source": [
    "smodel.summary()"
   ]
  },
  {
   "cell_type": "code",
   "execution_count": null,
   "id": "74c460b6",
   "metadata": {},
   "outputs": [],
   "source": []
  }
 ],
 "metadata": {
  "interpreter": {
   "hash": "aee8b7b246df8f9039afb4144a1f6fd8d2ca17a180786b69acc140d282b71a49"
  },
  "kernelspec": {
   "display_name": "Python 3.10.1 64-bit",
   "language": "python",
   "name": "python3"
  },
  "language_info": {
   "codemirror_mode": {
    "name": "ipython",
    "version": 3
   },
   "file_extension": ".py",
   "mimetype": "text/x-python",
   "name": "python",
   "nbconvert_exporter": "python",
   "pygments_lexer": "ipython3",
   "version": "3.10.1"
  }
 },
 "nbformat": 4,
 "nbformat_minor": 5
}
